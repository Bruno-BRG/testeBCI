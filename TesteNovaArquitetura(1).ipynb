{
  "cells": [
    {
      "cell_type": "code",
      "execution_count": 2,
      "metadata": {
        "colab": {
          "base_uri": "https://localhost:8080/"
        },
        "id": "Ql4RQSYOxWiL",
        "outputId": "574c3fb4-cffd-4128-ec21-b23eb503df29"
      },
      "outputs": [
        {
          "name": "stdout",
          "output_type": "stream",
          "text": [
            "Collecting mne\n",
            "  Downloading mne-1.9.0-py3-none-any.whl.metadata (20 kB)\n",
            "Requirement already satisfied: decorator in /usr/local/lib/python3.11/dist-packages (from mne) (4.4.2)\n",
            "Requirement already satisfied: jinja2 in /usr/local/lib/python3.11/dist-packages (from mne) (3.1.6)\n",
            "Requirement already satisfied: lazy-loader>=0.3 in /usr/local/lib/python3.11/dist-packages (from mne) (0.4)\n",
            "Requirement already satisfied: matplotlib>=3.6 in /usr/local/lib/python3.11/dist-packages (from mne) (3.10.0)\n",
            "Requirement already satisfied: numpy<3,>=1.23 in /usr/local/lib/python3.11/dist-packages (from mne) (2.0.2)\n",
            "Requirement already satisfied: packaging in /usr/local/lib/python3.11/dist-packages (from mne) (24.2)\n",
            "Requirement already satisfied: pooch>=1.5 in /usr/local/lib/python3.11/dist-packages (from mne) (1.8.2)\n",
            "Requirement already satisfied: scipy>=1.9 in /usr/local/lib/python3.11/dist-packages (from mne) (1.15.3)\n",
            "Requirement already satisfied: tqdm in /usr/local/lib/python3.11/dist-packages (from mne) (4.67.1)\n",
            "Requirement already satisfied: contourpy>=1.0.1 in /usr/local/lib/python3.11/dist-packages (from matplotlib>=3.6->mne) (1.3.2)\n",
            "Requirement already satisfied: cycler>=0.10 in /usr/local/lib/python3.11/dist-packages (from matplotlib>=3.6->mne) (0.12.1)\n",
            "Requirement already satisfied: fonttools>=4.22.0 in /usr/local/lib/python3.11/dist-packages (from matplotlib>=3.6->mne) (4.58.0)\n",
            "Requirement already satisfied: kiwisolver>=1.3.1 in /usr/local/lib/python3.11/dist-packages (from matplotlib>=3.6->mne) (1.4.8)\n",
            "Requirement already satisfied: pillow>=8 in /usr/local/lib/python3.11/dist-packages (from matplotlib>=3.6->mne) (11.2.1)\n",
            "Requirement already satisfied: pyparsing>=2.3.1 in /usr/local/lib/python3.11/dist-packages (from matplotlib>=3.6->mne) (3.2.3)\n",
            "Requirement already satisfied: python-dateutil>=2.7 in /usr/local/lib/python3.11/dist-packages (from matplotlib>=3.6->mne) (2.9.0.post0)\n",
            "Requirement already satisfied: platformdirs>=2.5.0 in /usr/local/lib/python3.11/dist-packages (from pooch>=1.5->mne) (4.3.8)\n",
            "Requirement already satisfied: requests>=2.19.0 in /usr/local/lib/python3.11/dist-packages (from pooch>=1.5->mne) (2.32.3)\n",
            "Requirement already satisfied: MarkupSafe>=2.0 in /usr/local/lib/python3.11/dist-packages (from jinja2->mne) (3.0.2)\n",
            "Requirement already satisfied: six>=1.5 in /usr/local/lib/python3.11/dist-packages (from python-dateutil>=2.7->matplotlib>=3.6->mne) (1.17.0)\n",
            "Requirement already satisfied: charset-normalizer<4,>=2 in /usr/local/lib/python3.11/dist-packages (from requests>=2.19.0->pooch>=1.5->mne) (3.4.2)\n",
            "Requirement already satisfied: idna<4,>=2.5 in /usr/local/lib/python3.11/dist-packages (from requests>=2.19.0->pooch>=1.5->mne) (3.10)\n",
            "Requirement already satisfied: urllib3<3,>=1.21.1 in /usr/local/lib/python3.11/dist-packages (from requests>=2.19.0->pooch>=1.5->mne) (2.4.0)\n",
            "Requirement already satisfied: certifi>=2017.4.17 in /usr/local/lib/python3.11/dist-packages (from requests>=2.19.0->pooch>=1.5->mne) (2025.4.26)\n",
            "Downloading mne-1.9.0-py3-none-any.whl (7.4 MB)\n",
            "\u001b[2K   \u001b[90m━━━━━━━━━━━━━━━━━━━━━━━━━━━━━━━━━━━━━━━━\u001b[0m \u001b[32m7.4/7.4 MB\u001b[0m \u001b[31m50.0 MB/s\u001b[0m eta \u001b[36m0:00:00\u001b[0m\n",
            "\u001b[?25hInstalling collected packages: mne\n",
            "Successfully installed mne-1.9.0\n"
          ]
        }
      ],
      "source": [
        "!pip install mne"
      ]
    },
    {
      "cell_type": "code",
      "execution_count": null,
      "metadata": {
        "colab": {
          "base_uri": "https://localhost:8080/",
          "height": 1000
        },
        "id": "h1jHDBoUr6JX",
        "outputId": "afddb057-311a-4d69-bbc6-ecb6c7f83434"
      },
      "outputs": [
        {
          "name": "stdout",
          "output_type": "stream",
          "text": [
            "Downloading EEGBCI data\n"
          ]
        },
        {
          "name": "stderr",
          "output_type": "stream",
          "text": [
            "Downloading file 'S080/S080R04.edf' from 'https://physionet.org/files/eegmmidb/1.0.0/S080/S080R04.edf' to 'C:\\Users\\Chari\\OneDrive\\Documentos\\GitHub\\teste01\\mne_data\\MNE-eegbci-data\\files\\eegmmidb\\1.0.0'.\n",
            "Downloading file 'S080/S080R08.edf' from 'https://physionet.org/files/eegmmidb/1.0.0/S080/S080R08.edf' to 'C:\\Users\\Chari\\OneDrive\\Documentos\\GitHub\\teste01\\mne_data\\MNE-eegbci-data\\files\\eegmmidb\\1.0.0'.\n",
            "Downloading file 'S080/S080R08.edf' from 'https://physionet.org/files/eegmmidb/1.0.0/S080/S080R08.edf' to 'C:\\Users\\Chari\\OneDrive\\Documentos\\GitHub\\teste01\\mne_data\\MNE-eegbci-data\\files\\eegmmidb\\1.0.0'.\n",
            "Downloading file 'S080/S080R12.edf' from 'https://physionet.org/files/eegmmidb/1.0.0/S080/S080R12.edf' to 'C:\\Users\\Chari\\OneDrive\\Documentos\\GitHub\\teste01\\mne_data\\MNE-eegbci-data\\files\\eegmmidb\\1.0.0'.\n",
            "Downloading file 'S080/S080R12.edf' from 'https://physionet.org/files/eegmmidb/1.0.0/S080/S080R12.edf' to 'C:\\Users\\Chari\\OneDrive\\Documentos\\GitHub\\teste01\\mne_data\\MNE-eegbci-data\\files\\eegmmidb\\1.0.0'.\n"
          ]
        },
        {
          "name": "stdout",
          "output_type": "stream",
          "text": [
            "Download complete in 24s (7.3 MB)\n",
            "Downloading EEGBCI data\n",
            "Downloading EEGBCI data\n"
          ]
        },
        {
          "name": "stderr",
          "output_type": "stream",
          "text": [
            "Downloading file 'S081/S081R04.edf' from 'https://physionet.org/files/eegmmidb/1.0.0/S081/S081R04.edf' to 'C:\\Users\\Chari\\OneDrive\\Documentos\\GitHub\\teste01\\mne_data\\MNE-eegbci-data\\files\\eegmmidb\\1.0.0'.\n",
            "Downloading file 'S081/S081R08.edf' from 'https://physionet.org/files/eegmmidb/1.0.0/S081/S081R08.edf' to 'C:\\Users\\Chari\\OneDrive\\Documentos\\GitHub\\teste01\\mne_data\\MNE-eegbci-data\\files\\eegmmidb\\1.0.0'.\n",
            "Downloading file 'S081/S081R08.edf' from 'https://physionet.org/files/eegmmidb/1.0.0/S081/S081R08.edf' to 'C:\\Users\\Chari\\OneDrive\\Documentos\\GitHub\\teste01\\mne_data\\MNE-eegbci-data\\files\\eegmmidb\\1.0.0'.\n",
            "Downloading file 'S081/S081R12.edf' from 'https://physionet.org/files/eegmmidb/1.0.0/S081/S081R12.edf' to 'C:\\Users\\Chari\\OneDrive\\Documentos\\GitHub\\teste01\\mne_data\\MNE-eegbci-data\\files\\eegmmidb\\1.0.0'.\n",
            "Downloading file 'S081/S081R12.edf' from 'https://physionet.org/files/eegmmidb/1.0.0/S081/S081R12.edf' to 'C:\\Users\\Chari\\OneDrive\\Documentos\\GitHub\\teste01\\mne_data\\MNE-eegbci-data\\files\\eegmmidb\\1.0.0'.\n"
          ]
        },
        {
          "name": "stdout",
          "output_type": "stream",
          "text": [
            "Download complete in 22s (7.3 MB)\n",
            "Downloading EEGBCI data\n",
            "Downloading EEGBCI data\n"
          ]
        },
        {
          "name": "stderr",
          "output_type": "stream",
          "text": [
            "Downloading file 'S082/S082R04.edf' from 'https://physionet.org/files/eegmmidb/1.0.0/S082/S082R04.edf' to 'C:\\Users\\Chari\\OneDrive\\Documentos\\GitHub\\teste01\\mne_data\\MNE-eegbci-data\\files\\eegmmidb\\1.0.0'.\n",
            "Downloading file 'S082/S082R08.edf' from 'https://physionet.org/files/eegmmidb/1.0.0/S082/S082R08.edf' to 'C:\\Users\\Chari\\OneDrive\\Documentos\\GitHub\\teste01\\mne_data\\MNE-eegbci-data\\files\\eegmmidb\\1.0.0'.\n",
            "Downloading file 'S082/S082R08.edf' from 'https://physionet.org/files/eegmmidb/1.0.0/S082/S082R08.edf' to 'C:\\Users\\Chari\\OneDrive\\Documentos\\GitHub\\teste01\\mne_data\\MNE-eegbci-data\\files\\eegmmidb\\1.0.0'.\n",
            "Downloading file 'S082/S082R12.edf' from 'https://physionet.org/files/eegmmidb/1.0.0/S082/S082R12.edf' to 'C:\\Users\\Chari\\OneDrive\\Documentos\\GitHub\\teste01\\mne_data\\MNE-eegbci-data\\files\\eegmmidb\\1.0.0'.\n",
            "Downloading file 'S082/S082R12.edf' from 'https://physionet.org/files/eegmmidb/1.0.0/S082/S082R12.edf' to 'C:\\Users\\Chari\\OneDrive\\Documentos\\GitHub\\teste01\\mne_data\\MNE-eegbci-data\\files\\eegmmidb\\1.0.0'.\n"
          ]
        },
        {
          "name": "stdout",
          "output_type": "stream",
          "text": [
            "Download complete in 26s (7.3 MB)\n",
            "Downloading EEGBCI data\n",
            "Downloading EEGBCI data\n"
          ]
        },
        {
          "name": "stderr",
          "output_type": "stream",
          "text": [
            "Downloading file 'S083/S083R04.edf' from 'https://physionet.org/files/eegmmidb/1.0.0/S083/S083R04.edf' to 'C:\\Users\\Chari\\OneDrive\\Documentos\\GitHub\\teste01\\mne_data\\MNE-eegbci-data\\files\\eegmmidb\\1.0.0'.\n",
            "Downloading file 'S083/S083R08.edf' from 'https://physionet.org/files/eegmmidb/1.0.0/S083/S083R08.edf' to 'C:\\Users\\Chari\\OneDrive\\Documentos\\GitHub\\teste01\\mne_data\\MNE-eegbci-data\\files\\eegmmidb\\1.0.0'.\n",
            "Downloading file 'S083/S083R08.edf' from 'https://physionet.org/files/eegmmidb/1.0.0/S083/S083R08.edf' to 'C:\\Users\\Chari\\OneDrive\\Documentos\\GitHub\\teste01\\mne_data\\MNE-eegbci-data\\files\\eegmmidb\\1.0.0'.\n",
            "Downloading file 'S083/S083R12.edf' from 'https://physionet.org/files/eegmmidb/1.0.0/S083/S083R12.edf' to 'C:\\Users\\Chari\\OneDrive\\Documentos\\GitHub\\teste01\\mne_data\\MNE-eegbci-data\\files\\eegmmidb\\1.0.0'.\n",
            "Downloading file 'S083/S083R12.edf' from 'https://physionet.org/files/eegmmidb/1.0.0/S083/S083R12.edf' to 'C:\\Users\\Chari\\OneDrive\\Documentos\\GitHub\\teste01\\mne_data\\MNE-eegbci-data\\files\\eegmmidb\\1.0.0'.\n"
          ]
        },
        {
          "name": "stdout",
          "output_type": "stream",
          "text": [
            "Download complete in 24s (7.4 MB)\n",
            "Downloading EEGBCI data\n",
            "Downloading EEGBCI data\n"
          ]
        },
        {
          "name": "stderr",
          "output_type": "stream",
          "text": [
            "Downloading file 'S084/S084R04.edf' from 'https://physionet.org/files/eegmmidb/1.0.0/S084/S084R04.edf' to 'C:\\Users\\Chari\\OneDrive\\Documentos\\GitHub\\teste01\\mne_data\\MNE-eegbci-data\\files\\eegmmidb\\1.0.0'.\n",
            "Downloading file 'S084/S084R08.edf' from 'https://physionet.org/files/eegmmidb/1.0.0/S084/S084R08.edf' to 'C:\\Users\\Chari\\OneDrive\\Documentos\\GitHub\\teste01\\mne_data\\MNE-eegbci-data\\files\\eegmmidb\\1.0.0'.\n",
            "Downloading file 'S084/S084R08.edf' from 'https://physionet.org/files/eegmmidb/1.0.0/S084/S084R08.edf' to 'C:\\Users\\Chari\\OneDrive\\Documentos\\GitHub\\teste01\\mne_data\\MNE-eegbci-data\\files\\eegmmidb\\1.0.0'.\n",
            "Downloading file 'S084/S084R12.edf' from 'https://physionet.org/files/eegmmidb/1.0.0/S084/S084R12.edf' to 'C:\\Users\\Chari\\OneDrive\\Documentos\\GitHub\\teste01\\mne_data\\MNE-eegbci-data\\files\\eegmmidb\\1.0.0'.\n",
            "Downloading file 'S084/S084R12.edf' from 'https://physionet.org/files/eegmmidb/1.0.0/S084/S084R12.edf' to 'C:\\Users\\Chari\\OneDrive\\Documentos\\GitHub\\teste01\\mne_data\\MNE-eegbci-data\\files\\eegmmidb\\1.0.0'.\n"
          ]
        },
        {
          "name": "stdout",
          "output_type": "stream",
          "text": [
            "Download complete in 24s (7.3 MB)\n",
            "Downloading EEGBCI data\n",
            "Downloading EEGBCI data\n"
          ]
        },
        {
          "name": "stderr",
          "output_type": "stream",
          "text": [
            "Downloading file 'S085/S085R04.edf' from 'https://physionet.org/files/eegmmidb/1.0.0/S085/S085R04.edf' to 'C:\\Users\\Chari\\OneDrive\\Documentos\\GitHub\\teste01\\mne_data\\MNE-eegbci-data\\files\\eegmmidb\\1.0.0'.\n",
            "Downloading file 'S085/S085R08.edf' from 'https://physionet.org/files/eegmmidb/1.0.0/S085/S085R08.edf' to 'C:\\Users\\Chari\\OneDrive\\Documentos\\GitHub\\teste01\\mne_data\\MNE-eegbci-data\\files\\eegmmidb\\1.0.0'.\n",
            "Downloading file 'S085/S085R08.edf' from 'https://physionet.org/files/eegmmidb/1.0.0/S085/S085R08.edf' to 'C:\\Users\\Chari\\OneDrive\\Documentos\\GitHub\\teste01\\mne_data\\MNE-eegbci-data\\files\\eegmmidb\\1.0.0'.\n",
            "Downloading file 'S085/S085R12.edf' from 'https://physionet.org/files/eegmmidb/1.0.0/S085/S085R12.edf' to 'C:\\Users\\Chari\\OneDrive\\Documentos\\GitHub\\teste01\\mne_data\\MNE-eegbci-data\\files\\eegmmidb\\1.0.0'.\n",
            "Downloading file 'S085/S085R12.edf' from 'https://physionet.org/files/eegmmidb/1.0.0/S085/S085R12.edf' to 'C:\\Users\\Chari\\OneDrive\\Documentos\\GitHub\\teste01\\mne_data\\MNE-eegbci-data\\files\\eegmmidb\\1.0.0'.\n"
          ]
        },
        {
          "name": "stdout",
          "output_type": "stream",
          "text": [
            "Download complete in 25s (7.3 MB)\n",
            "Downloading EEGBCI data\n",
            "Downloading EEGBCI data\n"
          ]
        },
        {
          "name": "stderr",
          "output_type": "stream",
          "text": [
            "Downloading file 'S086/S086R04.edf' from 'https://physionet.org/files/eegmmidb/1.0.0/S086/S086R04.edf' to 'C:\\Users\\Chari\\OneDrive\\Documentos\\GitHub\\teste01\\mne_data\\MNE-eegbci-data\\files\\eegmmidb\\1.0.0'.\n",
            "Downloading file 'S086/S086R08.edf' from 'https://physionet.org/files/eegmmidb/1.0.0/S086/S086R08.edf' to 'C:\\Users\\Chari\\OneDrive\\Documentos\\GitHub\\teste01\\mne_data\\MNE-eegbci-data\\files\\eegmmidb\\1.0.0'.\n",
            "Downloading file 'S086/S086R08.edf' from 'https://physionet.org/files/eegmmidb/1.0.0/S086/S086R08.edf' to 'C:\\Users\\Chari\\OneDrive\\Documentos\\GitHub\\teste01\\mne_data\\MNE-eegbci-data\\files\\eegmmidb\\1.0.0'.\n",
            "Downloading file 'S086/S086R12.edf' from 'https://physionet.org/files/eegmmidb/1.0.0/S086/S086R12.edf' to 'C:\\Users\\Chari\\OneDrive\\Documentos\\GitHub\\teste01\\mne_data\\MNE-eegbci-data\\files\\eegmmidb\\1.0.0'.\n",
            "Downloading file 'S086/S086R12.edf' from 'https://physionet.org/files/eegmmidb/1.0.0/S086/S086R12.edf' to 'C:\\Users\\Chari\\OneDrive\\Documentos\\GitHub\\teste01\\mne_data\\MNE-eegbci-data\\files\\eegmmidb\\1.0.0'.\n"
          ]
        },
        {
          "name": "stdout",
          "output_type": "stream",
          "text": [
            "Download complete in 24s (7.4 MB)\n",
            "Downloading EEGBCI data\n",
            "Downloading EEGBCI data\n"
          ]
        },
        {
          "name": "stderr",
          "output_type": "stream",
          "text": [
            "Downloading file 'S087/S087R04.edf' from 'https://physionet.org/files/eegmmidb/1.0.0/S087/S087R04.edf' to 'C:\\Users\\Chari\\OneDrive\\Documentos\\GitHub\\teste01\\mne_data\\MNE-eegbci-data\\files\\eegmmidb\\1.0.0'.\n",
            "Downloading file 'S087/S087R08.edf' from 'https://physionet.org/files/eegmmidb/1.0.0/S087/S087R08.edf' to 'C:\\Users\\Chari\\OneDrive\\Documentos\\GitHub\\teste01\\mne_data\\MNE-eegbci-data\\files\\eegmmidb\\1.0.0'.\n",
            "Downloading file 'S087/S087R08.edf' from 'https://physionet.org/files/eegmmidb/1.0.0/S087/S087R08.edf' to 'C:\\Users\\Chari\\OneDrive\\Documentos\\GitHub\\teste01\\mne_data\\MNE-eegbci-data\\files\\eegmmidb\\1.0.0'.\n",
            "Downloading file 'S087/S087R12.edf' from 'https://physionet.org/files/eegmmidb/1.0.0/S087/S087R12.edf' to 'C:\\Users\\Chari\\OneDrive\\Documentos\\GitHub\\teste01\\mne_data\\MNE-eegbci-data\\files\\eegmmidb\\1.0.0'.\n",
            "Downloading file 'S087/S087R12.edf' from 'https://physionet.org/files/eegmmidb/1.0.0/S087/S087R12.edf' to 'C:\\Users\\Chari\\OneDrive\\Documentos\\GitHub\\teste01\\mne_data\\MNE-eegbci-data\\files\\eegmmidb\\1.0.0'.\n"
          ]
        },
        {
          "name": "stdout",
          "output_type": "stream",
          "text": [
            "Download complete in 22s (7.3 MB)\n",
            "Downloading EEGBCI data\n",
            "Downloading EEGBCI data\n"
          ]
        },
        {
          "name": "stderr",
          "output_type": "stream",
          "text": [
            "Downloading file 'S088/S088R04.edf' from 'https://physionet.org/files/eegmmidb/1.0.0/S088/S088R04.edf' to 'C:\\Users\\Chari\\OneDrive\\Documentos\\GitHub\\teste01\\mne_data\\MNE-eegbci-data\\files\\eegmmidb\\1.0.0'.\n",
            "Downloading file 'S088/S088R08.edf' from 'https://physionet.org/files/eegmmidb/1.0.0/S088/S088R08.edf' to 'C:\\Users\\Chari\\OneDrive\\Documentos\\GitHub\\teste01\\mne_data\\MNE-eegbci-data\\files\\eegmmidb\\1.0.0'.\n",
            "Downloading file 'S088/S088R08.edf' from 'https://physionet.org/files/eegmmidb/1.0.0/S088/S088R08.edf' to 'C:\\Users\\Chari\\OneDrive\\Documentos\\GitHub\\teste01\\mne_data\\MNE-eegbci-data\\files\\eegmmidb\\1.0.0'.\n",
            "Downloading file 'S088/S088R12.edf' from 'https://physionet.org/files/eegmmidb/1.0.0/S088/S088R12.edf' to 'C:\\Users\\Chari\\OneDrive\\Documentos\\GitHub\\teste01\\mne_data\\MNE-eegbci-data\\files\\eegmmidb\\1.0.0'.\n",
            "Downloading file 'S088/S088R12.edf' from 'https://physionet.org/files/eegmmidb/1.0.0/S088/S088R12.edf' to 'C:\\Users\\Chari\\OneDrive\\Documentos\\GitHub\\teste01\\mne_data\\MNE-eegbci-data\\files\\eegmmidb\\1.0.0'.\n"
          ]
        },
        {
          "name": "stdout",
          "output_type": "stream",
          "text": [
            "Download complete in 18s (5.9 MB)\n",
            "Downloading EEGBCI data\n",
            "Downloading EEGBCI data\n"
          ]
        },
        {
          "name": "stderr",
          "output_type": "stream",
          "text": [
            "Downloading file 'S089/S089R04.edf' from 'https://physionet.org/files/eegmmidb/1.0.0/S089/S089R04.edf' to 'C:\\Users\\Chari\\OneDrive\\Documentos\\GitHub\\teste01\\mne_data\\MNE-eegbci-data\\files\\eegmmidb\\1.0.0'.\n",
            "Downloading file 'S089/S089R08.edf' from 'https://physionet.org/files/eegmmidb/1.0.0/S089/S089R08.edf' to 'C:\\Users\\Chari\\OneDrive\\Documentos\\GitHub\\teste01\\mne_data\\MNE-eegbci-data\\files\\eegmmidb\\1.0.0'.\n",
            "Downloading file 'S089/S089R08.edf' from 'https://physionet.org/files/eegmmidb/1.0.0/S089/S089R08.edf' to 'C:\\Users\\Chari\\OneDrive\\Documentos\\GitHub\\teste01\\mne_data\\MNE-eegbci-data\\files\\eegmmidb\\1.0.0'.\n",
            "Downloading file 'S089/S089R12.edf' from 'https://physionet.org/files/eegmmidb/1.0.0/S089/S089R12.edf' to 'C:\\Users\\Chari\\OneDrive\\Documentos\\GitHub\\teste01\\mne_data\\MNE-eegbci-data\\files\\eegmmidb\\1.0.0'.\n",
            "Downloading file 'S089/S089R12.edf' from 'https://physionet.org/files/eegmmidb/1.0.0/S089/S089R12.edf' to 'C:\\Users\\Chari\\OneDrive\\Documentos\\GitHub\\teste01\\mne_data\\MNE-eegbci-data\\files\\eegmmidb\\1.0.0'.\n"
          ]
        },
        {
          "name": "stdout",
          "output_type": "stream",
          "text": [
            "Download complete in 22s (7.3 MB)\n",
            "Downloading EEGBCI data\n",
            "Downloading EEGBCI data\n"
          ]
        },
        {
          "name": "stderr",
          "output_type": "stream",
          "text": [
            "Downloading file 'S090/S090R04.edf' from 'https://physionet.org/files/eegmmidb/1.0.0/S090/S090R04.edf' to 'C:\\Users\\Chari\\OneDrive\\Documentos\\GitHub\\teste01\\mne_data\\MNE-eegbci-data\\files\\eegmmidb\\1.0.0'.\n",
            "Downloading file 'S090/S090R08.edf' from 'https://physionet.org/files/eegmmidb/1.0.0/S090/S090R08.edf' to 'C:\\Users\\Chari\\OneDrive\\Documentos\\GitHub\\teste01\\mne_data\\MNE-eegbci-data\\files\\eegmmidb\\1.0.0'.\n",
            "Downloading file 'S090/S090R08.edf' from 'https://physionet.org/files/eegmmidb/1.0.0/S090/S090R08.edf' to 'C:\\Users\\Chari\\OneDrive\\Documentos\\GitHub\\teste01\\mne_data\\MNE-eegbci-data\\files\\eegmmidb\\1.0.0'.\n",
            "Downloading file 'S090/S090R12.edf' from 'https://physionet.org/files/eegmmidb/1.0.0/S090/S090R12.edf' to 'C:\\Users\\Chari\\OneDrive\\Documentos\\GitHub\\teste01\\mne_data\\MNE-eegbci-data\\files\\eegmmidb\\1.0.0'.\n",
            "Downloading file 'S090/S090R12.edf' from 'https://physionet.org/files/eegmmidb/1.0.0/S090/S090R12.edf' to 'C:\\Users\\Chari\\OneDrive\\Documentos\\GitHub\\teste01\\mne_data\\MNE-eegbci-data\\files\\eegmmidb\\1.0.0'.\n"
          ]
        },
        {
          "name": "stdout",
          "output_type": "stream",
          "text": [
            "Download complete in 24s (7.3 MB)\n",
            "Downloading EEGBCI data\n",
            "Downloading EEGBCI data\n"
          ]
        },
        {
          "name": "stderr",
          "output_type": "stream",
          "text": [
            "Downloading file 'S091/S091R04.edf' from 'https://physionet.org/files/eegmmidb/1.0.0/S091/S091R04.edf' to 'C:\\Users\\Chari\\OneDrive\\Documentos\\GitHub\\teste01\\mne_data\\MNE-eegbci-data\\files\\eegmmidb\\1.0.0'.\n",
            "Downloading file 'S091/S091R08.edf' from 'https://physionet.org/files/eegmmidb/1.0.0/S091/S091R08.edf' to 'C:\\Users\\Chari\\OneDrive\\Documentos\\GitHub\\teste01\\mne_data\\MNE-eegbci-data\\files\\eegmmidb\\1.0.0'.\n",
            "Downloading file 'S091/S091R08.edf' from 'https://physionet.org/files/eegmmidb/1.0.0/S091/S091R08.edf' to 'C:\\Users\\Chari\\OneDrive\\Documentos\\GitHub\\teste01\\mne_data\\MNE-eegbci-data\\files\\eegmmidb\\1.0.0'.\n",
            "Downloading file 'S091/S091R12.edf' from 'https://physionet.org/files/eegmmidb/1.0.0/S091/S091R12.edf' to 'C:\\Users\\Chari\\OneDrive\\Documentos\\GitHub\\teste01\\mne_data\\MNE-eegbci-data\\files\\eegmmidb\\1.0.0'.\n",
            "Downloading file 'S091/S091R12.edf' from 'https://physionet.org/files/eegmmidb/1.0.0/S091/S091R12.edf' to 'C:\\Users\\Chari\\OneDrive\\Documentos\\GitHub\\teste01\\mne_data\\MNE-eegbci-data\\files\\eegmmidb\\1.0.0'.\n"
          ]
        },
        {
          "name": "stdout",
          "output_type": "stream",
          "text": [
            "Download complete in 23s (7.3 MB)\n",
            "Downloading EEGBCI data\n",
            "Downloading EEGBCI data\n"
          ]
        },
        {
          "name": "stderr",
          "output_type": "stream",
          "text": [
            "Downloading file 'S092/S092R04.edf' from 'https://physionet.org/files/eegmmidb/1.0.0/S092/S092R04.edf' to 'C:\\Users\\Chari\\OneDrive\\Documentos\\GitHub\\teste01\\mne_data\\MNE-eegbci-data\\files\\eegmmidb\\1.0.0'.\n",
            "Downloading file 'S092/S092R08.edf' from 'https://physionet.org/files/eegmmidb/1.0.0/S092/S092R08.edf' to 'C:\\Users\\Chari\\OneDrive\\Documentos\\GitHub\\teste01\\mne_data\\MNE-eegbci-data\\files\\eegmmidb\\1.0.0'.\n",
            "Downloading file 'S092/S092R08.edf' from 'https://physionet.org/files/eegmmidb/1.0.0/S092/S092R08.edf' to 'C:\\Users\\Chari\\OneDrive\\Documentos\\GitHub\\teste01\\mne_data\\MNE-eegbci-data\\files\\eegmmidb\\1.0.0'.\n",
            "Downloading file 'S092/S092R12.edf' from 'https://physionet.org/files/eegmmidb/1.0.0/S092/S092R12.edf' to 'C:\\Users\\Chari\\OneDrive\\Documentos\\GitHub\\teste01\\mne_data\\MNE-eegbci-data\\files\\eegmmidb\\1.0.0'.\n",
            "Downloading file 'S092/S092R12.edf' from 'https://physionet.org/files/eegmmidb/1.0.0/S092/S092R12.edf' to 'C:\\Users\\Chari\\OneDrive\\Documentos\\GitHub\\teste01\\mne_data\\MNE-eegbci-data\\files\\eegmmidb\\1.0.0'.\n"
          ]
        },
        {
          "name": "stdout",
          "output_type": "stream",
          "text": [
            "Download complete in 19s (5.9 MB)\n",
            "Downloading EEGBCI data\n",
            "Downloading EEGBCI data\n"
          ]
        },
        {
          "name": "stderr",
          "output_type": "stream",
          "text": [
            "Downloading file 'S093/S093R04.edf' from 'https://physionet.org/files/eegmmidb/1.0.0/S093/S093R04.edf' to 'C:\\Users\\Chari\\OneDrive\\Documentos\\GitHub\\teste01\\mne_data\\MNE-eegbci-data\\files\\eegmmidb\\1.0.0'.\n",
            "Downloading file 'S093/S093R08.edf' from 'https://physionet.org/files/eegmmidb/1.0.0/S093/S093R08.edf' to 'C:\\Users\\Chari\\OneDrive\\Documentos\\GitHub\\teste01\\mne_data\\MNE-eegbci-data\\files\\eegmmidb\\1.0.0'.\n",
            "Downloading file 'S093/S093R08.edf' from 'https://physionet.org/files/eegmmidb/1.0.0/S093/S093R08.edf' to 'C:\\Users\\Chari\\OneDrive\\Documentos\\GitHub\\teste01\\mne_data\\MNE-eegbci-data\\files\\eegmmidb\\1.0.0'.\n",
            "Downloading file 'S093/S093R12.edf' from 'https://physionet.org/files/eegmmidb/1.0.0/S093/S093R12.edf' to 'C:\\Users\\Chari\\OneDrive\\Documentos\\GitHub\\teste01\\mne_data\\MNE-eegbci-data\\files\\eegmmidb\\1.0.0'.\n",
            "Downloading file 'S093/S093R12.edf' from 'https://physionet.org/files/eegmmidb/1.0.0/S093/S093R12.edf' to 'C:\\Users\\Chari\\OneDrive\\Documentos\\GitHub\\teste01\\mne_data\\MNE-eegbci-data\\files\\eegmmidb\\1.0.0'.\n"
          ]
        },
        {
          "name": "stdout",
          "output_type": "stream",
          "text": [
            "Download complete in 25s (7.3 MB)\n",
            "Downloading EEGBCI data\n",
            "Downloading EEGBCI data\n"
          ]
        },
        {
          "name": "stderr",
          "output_type": "stream",
          "text": [
            "Downloading file 'S094/S094R04.edf' from 'https://physionet.org/files/eegmmidb/1.0.0/S094/S094R04.edf' to 'C:\\Users\\Chari\\OneDrive\\Documentos\\GitHub\\teste01\\mne_data\\MNE-eegbci-data\\files\\eegmmidb\\1.0.0'.\n",
            "Downloading file 'S094/S094R08.edf' from 'https://physionet.org/files/eegmmidb/1.0.0/S094/S094R08.edf' to 'C:\\Users\\Chari\\OneDrive\\Documentos\\GitHub\\teste01\\mne_data\\MNE-eegbci-data\\files\\eegmmidb\\1.0.0'.\n",
            "Downloading file 'S094/S094R08.edf' from 'https://physionet.org/files/eegmmidb/1.0.0/S094/S094R08.edf' to 'C:\\Users\\Chari\\OneDrive\\Documentos\\GitHub\\teste01\\mne_data\\MNE-eegbci-data\\files\\eegmmidb\\1.0.0'.\n",
            "Downloading file 'S094/S094R12.edf' from 'https://physionet.org/files/eegmmidb/1.0.0/S094/S094R12.edf' to 'C:\\Users\\Chari\\OneDrive\\Documentos\\GitHub\\teste01\\mne_data\\MNE-eegbci-data\\files\\eegmmidb\\1.0.0'.\n",
            "Downloading file 'S094/S094R12.edf' from 'https://physionet.org/files/eegmmidb/1.0.0/S094/S094R12.edf' to 'C:\\Users\\Chari\\OneDrive\\Documentos\\GitHub\\teste01\\mne_data\\MNE-eegbci-data\\files\\eegmmidb\\1.0.0'.\n"
          ]
        },
        {
          "name": "stdout",
          "output_type": "stream",
          "text": [
            "Download complete in 26s (7.3 MB)\n",
            "Downloading EEGBCI data\n",
            "Downloading EEGBCI data\n"
          ]
        },
        {
          "name": "stderr",
          "output_type": "stream",
          "text": [
            "Downloading file 'S095/S095R04.edf' from 'https://physionet.org/files/eegmmidb/1.0.0/S095/S095R04.edf' to 'C:\\Users\\Chari\\OneDrive\\Documentos\\GitHub\\teste01\\mne_data\\MNE-eegbci-data\\files\\eegmmidb\\1.0.0'.\n",
            "Downloading file 'S095/S095R08.edf' from 'https://physionet.org/files/eegmmidb/1.0.0/S095/S095R08.edf' to 'C:\\Users\\Chari\\OneDrive\\Documentos\\GitHub\\teste01\\mne_data\\MNE-eegbci-data\\files\\eegmmidb\\1.0.0'.\n",
            "Downloading file 'S095/S095R08.edf' from 'https://physionet.org/files/eegmmidb/1.0.0/S095/S095R08.edf' to 'C:\\Users\\Chari\\OneDrive\\Documentos\\GitHub\\teste01\\mne_data\\MNE-eegbci-data\\files\\eegmmidb\\1.0.0'.\n",
            "Downloading file 'S095/S095R12.edf' from 'https://physionet.org/files/eegmmidb/1.0.0/S095/S095R12.edf' to 'C:\\Users\\Chari\\OneDrive\\Documentos\\GitHub\\teste01\\mne_data\\MNE-eegbci-data\\files\\eegmmidb\\1.0.0'.\n",
            "Downloading file 'S095/S095R12.edf' from 'https://physionet.org/files/eegmmidb/1.0.0/S095/S095R12.edf' to 'C:\\Users\\Chari\\OneDrive\\Documentos\\GitHub\\teste01\\mne_data\\MNE-eegbci-data\\files\\eegmmidb\\1.0.0'.\n"
          ]
        },
        {
          "name": "stdout",
          "output_type": "stream",
          "text": [
            "Download complete in 24s (7.4 MB)\n",
            "Downloading EEGBCI data\n",
            "Downloading EEGBCI data\n"
          ]
        },
        {
          "name": "stderr",
          "output_type": "stream",
          "text": [
            "Downloading file 'S096/S096R04.edf' from 'https://physionet.org/files/eegmmidb/1.0.0/S096/S096R04.edf' to 'C:\\Users\\Chari\\OneDrive\\Documentos\\GitHub\\teste01\\mne_data\\MNE-eegbci-data\\files\\eegmmidb\\1.0.0'.\n",
            "Downloading file 'S096/S096R08.edf' from 'https://physionet.org/files/eegmmidb/1.0.0/S096/S096R08.edf' to 'C:\\Users\\Chari\\OneDrive\\Documentos\\GitHub\\teste01\\mne_data\\MNE-eegbci-data\\files\\eegmmidb\\1.0.0'.\n",
            "Downloading file 'S096/S096R08.edf' from 'https://physionet.org/files/eegmmidb/1.0.0/S096/S096R08.edf' to 'C:\\Users\\Chari\\OneDrive\\Documentos\\GitHub\\teste01\\mne_data\\MNE-eegbci-data\\files\\eegmmidb\\1.0.0'.\n",
            "Downloading file 'S096/S096R12.edf' from 'https://physionet.org/files/eegmmidb/1.0.0/S096/S096R12.edf' to 'C:\\Users\\Chari\\OneDrive\\Documentos\\GitHub\\teste01\\mne_data\\MNE-eegbci-data\\files\\eegmmidb\\1.0.0'.\n",
            "Downloading file 'S096/S096R12.edf' from 'https://physionet.org/files/eegmmidb/1.0.0/S096/S096R12.edf' to 'C:\\Users\\Chari\\OneDrive\\Documentos\\GitHub\\teste01\\mne_data\\MNE-eegbci-data\\files\\eegmmidb\\1.0.0'.\n"
          ]
        },
        {
          "name": "stdout",
          "output_type": "stream",
          "text": [
            "Download complete in 24s (7.4 MB)\n",
            "Downloading EEGBCI data\n",
            "Downloading EEGBCI data\n"
          ]
        },
        {
          "name": "stderr",
          "output_type": "stream",
          "text": [
            "Downloading file 'S097/S097R04.edf' from 'https://physionet.org/files/eegmmidb/1.0.0/S097/S097R04.edf' to 'C:\\Users\\Chari\\OneDrive\\Documentos\\GitHub\\teste01\\mne_data\\MNE-eegbci-data\\files\\eegmmidb\\1.0.0'.\n",
            "Downloading file 'S097/S097R08.edf' from 'https://physionet.org/files/eegmmidb/1.0.0/S097/S097R08.edf' to 'C:\\Users\\Chari\\OneDrive\\Documentos\\GitHub\\teste01\\mne_data\\MNE-eegbci-data\\files\\eegmmidb\\1.0.0'.\n",
            "Downloading file 'S097/S097R08.edf' from 'https://physionet.org/files/eegmmidb/1.0.0/S097/S097R08.edf' to 'C:\\Users\\Chari\\OneDrive\\Documentos\\GitHub\\teste01\\mne_data\\MNE-eegbci-data\\files\\eegmmidb\\1.0.0'.\n",
            "Downloading file 'S097/S097R12.edf' from 'https://physionet.org/files/eegmmidb/1.0.0/S097/S097R12.edf' to 'C:\\Users\\Chari\\OneDrive\\Documentos\\GitHub\\teste01\\mne_data\\MNE-eegbci-data\\files\\eegmmidb\\1.0.0'.\n",
            "Downloading file 'S097/S097R12.edf' from 'https://physionet.org/files/eegmmidb/1.0.0/S097/S097R12.edf' to 'C:\\Users\\Chari\\OneDrive\\Documentos\\GitHub\\teste01\\mne_data\\MNE-eegbci-data\\files\\eegmmidb\\1.0.0'.\n"
          ]
        },
        {
          "name": "stdout",
          "output_type": "stream",
          "text": [
            "Download complete in 25s (7.3 MB)\n",
            "Downloading EEGBCI data\n",
            "Downloading EEGBCI data\n"
          ]
        },
        {
          "name": "stderr",
          "output_type": "stream",
          "text": [
            "Downloading file 'S098/S098R04.edf' from 'https://physionet.org/files/eegmmidb/1.0.0/S098/S098R04.edf' to 'C:\\Users\\Chari\\OneDrive\\Documentos\\GitHub\\teste01\\mne_data\\MNE-eegbci-data\\files\\eegmmidb\\1.0.0'.\n",
            "Downloading file 'S098/S098R08.edf' from 'https://physionet.org/files/eegmmidb/1.0.0/S098/S098R08.edf' to 'C:\\Users\\Chari\\OneDrive\\Documentos\\GitHub\\teste01\\mne_data\\MNE-eegbci-data\\files\\eegmmidb\\1.0.0'.\n",
            "Downloading file 'S098/S098R08.edf' from 'https://physionet.org/files/eegmmidb/1.0.0/S098/S098R08.edf' to 'C:\\Users\\Chari\\OneDrive\\Documentos\\GitHub\\teste01\\mne_data\\MNE-eegbci-data\\files\\eegmmidb\\1.0.0'.\n",
            "Downloading file 'S098/S098R12.edf' from 'https://physionet.org/files/eegmmidb/1.0.0/S098/S098R12.edf' to 'C:\\Users\\Chari\\OneDrive\\Documentos\\GitHub\\teste01\\mne_data\\MNE-eegbci-data\\files\\eegmmidb\\1.0.0'.\n",
            "Downloading file 'S098/S098R12.edf' from 'https://physionet.org/files/eegmmidb/1.0.0/S098/S098R12.edf' to 'C:\\Users\\Chari\\OneDrive\\Documentos\\GitHub\\teste01\\mne_data\\MNE-eegbci-data\\files\\eegmmidb\\1.0.0'.\n"
          ]
        },
        {
          "name": "stdout",
          "output_type": "stream",
          "text": [
            "Download complete in 28s (7.3 MB)\n",
            "Downloading EEGBCI data\n",
            "Downloading EEGBCI data\n"
          ]
        },
        {
          "name": "stderr",
          "output_type": "stream",
          "text": [
            "Downloading file 'S099/S099R04.edf' from 'https://physionet.org/files/eegmmidb/1.0.0/S099/S099R04.edf' to 'C:\\Users\\Chari\\OneDrive\\Documentos\\GitHub\\teste01\\mne_data\\MNE-eegbci-data\\files\\eegmmidb\\1.0.0'.\n",
            "Downloading file 'S099/S099R08.edf' from 'https://physionet.org/files/eegmmidb/1.0.0/S099/S099R08.edf' to 'C:\\Users\\Chari\\OneDrive\\Documentos\\GitHub\\teste01\\mne_data\\MNE-eegbci-data\\files\\eegmmidb\\1.0.0'.\n",
            "Downloading file 'S099/S099R08.edf' from 'https://physionet.org/files/eegmmidb/1.0.0/S099/S099R08.edf' to 'C:\\Users\\Chari\\OneDrive\\Documentos\\GitHub\\teste01\\mne_data\\MNE-eegbci-data\\files\\eegmmidb\\1.0.0'.\n",
            "Downloading file 'S099/S099R12.edf' from 'https://physionet.org/files/eegmmidb/1.0.0/S099/S099R12.edf' to 'C:\\Users\\Chari\\OneDrive\\Documentos\\GitHub\\teste01\\mne_data\\MNE-eegbci-data\\files\\eegmmidb\\1.0.0'.\n",
            "Downloading file 'S099/S099R12.edf' from 'https://physionet.org/files/eegmmidb/1.0.0/S099/S099R12.edf' to 'C:\\Users\\Chari\\OneDrive\\Documentos\\GitHub\\teste01\\mne_data\\MNE-eegbci-data\\files\\eegmmidb\\1.0.0'.\n"
          ]
        },
        {
          "name": "stdout",
          "output_type": "stream",
          "text": [
            "Download complete in 25s (7.3 MB)\n",
            "Downloading EEGBCI data\n",
            "Downloading EEGBCI data\n"
          ]
        },
        {
          "name": "stderr",
          "output_type": "stream",
          "text": [
            "Downloading file 'S100/S100R04.edf' from 'https://physionet.org/files/eegmmidb/1.0.0/S100/S100R04.edf' to 'C:\\Users\\Chari\\OneDrive\\Documentos\\GitHub\\teste01\\mne_data\\MNE-eegbci-data\\files\\eegmmidb\\1.0.0'.\n",
            "Downloading file 'S100/S100R08.edf' from 'https://physionet.org/files/eegmmidb/1.0.0/S100/S100R08.edf' to 'C:\\Users\\Chari\\OneDrive\\Documentos\\GitHub\\teste01\\mne_data\\MNE-eegbci-data\\files\\eegmmidb\\1.0.0'.\n",
            "Downloading file 'S100/S100R08.edf' from 'https://physionet.org/files/eegmmidb/1.0.0/S100/S100R08.edf' to 'C:\\Users\\Chari\\OneDrive\\Documentos\\GitHub\\teste01\\mne_data\\MNE-eegbci-data\\files\\eegmmidb\\1.0.0'.\n",
            "Downloading file 'S100/S100R12.edf' from 'https://physionet.org/files/eegmmidb/1.0.0/S100/S100R12.edf' to 'C:\\Users\\Chari\\OneDrive\\Documentos\\GitHub\\teste01\\mne_data\\MNE-eegbci-data\\files\\eegmmidb\\1.0.0'.\n",
            "Downloading file 'S100/S100R12.edf' from 'https://physionet.org/files/eegmmidb/1.0.0/S100/S100R12.edf' to 'C:\\Users\\Chari\\OneDrive\\Documentos\\GitHub\\teste01\\mne_data\\MNE-eegbci-data\\files\\eegmmidb\\1.0.0'.\n"
          ]
        },
        {
          "name": "stdout",
          "output_type": "stream",
          "text": [
            "Download complete in 19s (5.9 MB)\n",
            "Downloading EEGBCI data\n",
            "Downloading EEGBCI data\n"
          ]
        },
        {
          "name": "stderr",
          "output_type": "stream",
          "text": [
            "Downloading file 'S101/S101R04.edf' from 'https://physionet.org/files/eegmmidb/1.0.0/S101/S101R04.edf' to 'C:\\Users\\Chari\\OneDrive\\Documentos\\GitHub\\teste01\\mne_data\\MNE-eegbci-data\\files\\eegmmidb\\1.0.0'.\n",
            "Downloading file 'S101/S101R08.edf' from 'https://physionet.org/files/eegmmidb/1.0.0/S101/S101R08.edf' to 'C:\\Users\\Chari\\OneDrive\\Documentos\\GitHub\\teste01\\mne_data\\MNE-eegbci-data\\files\\eegmmidb\\1.0.0'.\n",
            "Downloading file 'S101/S101R08.edf' from 'https://physionet.org/files/eegmmidb/1.0.0/S101/S101R08.edf' to 'C:\\Users\\Chari\\OneDrive\\Documentos\\GitHub\\teste01\\mne_data\\MNE-eegbci-data\\files\\eegmmidb\\1.0.0'.\n",
            "Downloading file 'S101/S101R12.edf' from 'https://physionet.org/files/eegmmidb/1.0.0/S101/S101R12.edf' to 'C:\\Users\\Chari\\OneDrive\\Documentos\\GitHub\\teste01\\mne_data\\MNE-eegbci-data\\files\\eegmmidb\\1.0.0'.\n",
            "Downloading file 'S101/S101R12.edf' from 'https://physionet.org/files/eegmmidb/1.0.0/S101/S101R12.edf' to 'C:\\Users\\Chari\\OneDrive\\Documentos\\GitHub\\teste01\\mne_data\\MNE-eegbci-data\\files\\eegmmidb\\1.0.0'.\n"
          ]
        },
        {
          "name": "stdout",
          "output_type": "stream",
          "text": [
            "Download complete in 25s (7.4 MB)\n",
            "Downloading EEGBCI data\n",
            "Downloading EEGBCI data\n"
          ]
        },
        {
          "name": "stderr",
          "output_type": "stream",
          "text": [
            "Downloading file 'S102/S102R04.edf' from 'https://physionet.org/files/eegmmidb/1.0.0/S102/S102R04.edf' to 'C:\\Users\\Chari\\OneDrive\\Documentos\\GitHub\\teste01\\mne_data\\MNE-eegbci-data\\files\\eegmmidb\\1.0.0'.\n",
            "Downloading file 'S102/S102R08.edf' from 'https://physionet.org/files/eegmmidb/1.0.0/S102/S102R08.edf' to 'C:\\Users\\Chari\\OneDrive\\Documentos\\GitHub\\teste01\\mne_data\\MNE-eegbci-data\\files\\eegmmidb\\1.0.0'.\n",
            "Downloading file 'S102/S102R08.edf' from 'https://physionet.org/files/eegmmidb/1.0.0/S102/S102R08.edf' to 'C:\\Users\\Chari\\OneDrive\\Documentos\\GitHub\\teste01\\mne_data\\MNE-eegbci-data\\files\\eegmmidb\\1.0.0'.\n",
            "Downloading file 'S102/S102R12.edf' from 'https://physionet.org/files/eegmmidb/1.0.0/S102/S102R12.edf' to 'C:\\Users\\Chari\\OneDrive\\Documentos\\GitHub\\teste01\\mne_data\\MNE-eegbci-data\\files\\eegmmidb\\1.0.0'.\n",
            "Downloading file 'S102/S102R12.edf' from 'https://physionet.org/files/eegmmidb/1.0.0/S102/S102R12.edf' to 'C:\\Users\\Chari\\OneDrive\\Documentos\\GitHub\\teste01\\mne_data\\MNE-eegbci-data\\files\\eegmmidb\\1.0.0'.\n"
          ]
        },
        {
          "name": "stdout",
          "output_type": "stream",
          "text": [
            "Download complete in 24s (7.3 MB)\n",
            "Downloading EEGBCI data\n",
            "Downloading EEGBCI data\n"
          ]
        },
        {
          "name": "stderr",
          "output_type": "stream",
          "text": [
            "Downloading file 'S103/S103R04.edf' from 'https://physionet.org/files/eegmmidb/1.0.0/S103/S103R04.edf' to 'C:\\Users\\Chari\\OneDrive\\Documentos\\GitHub\\teste01\\mne_data\\MNE-eegbci-data\\files\\eegmmidb\\1.0.0'.\n",
            "Downloading file 'S103/S103R08.edf' from 'https://physionet.org/files/eegmmidb/1.0.0/S103/S103R08.edf' to 'C:\\Users\\Chari\\OneDrive\\Documentos\\GitHub\\teste01\\mne_data\\MNE-eegbci-data\\files\\eegmmidb\\1.0.0'.\n",
            "Downloading file 'S103/S103R08.edf' from 'https://physionet.org/files/eegmmidb/1.0.0/S103/S103R08.edf' to 'C:\\Users\\Chari\\OneDrive\\Documentos\\GitHub\\teste01\\mne_data\\MNE-eegbci-data\\files\\eegmmidb\\1.0.0'.\n",
            "Downloading file 'S103/S103R12.edf' from 'https://physionet.org/files/eegmmidb/1.0.0/S103/S103R12.edf' to 'C:\\Users\\Chari\\OneDrive\\Documentos\\GitHub\\teste01\\mne_data\\MNE-eegbci-data\\files\\eegmmidb\\1.0.0'.\n",
            "Downloading file 'S103/S103R12.edf' from 'https://physionet.org/files/eegmmidb/1.0.0/S103/S103R12.edf' to 'C:\\Users\\Chari\\OneDrive\\Documentos\\GitHub\\teste01\\mne_data\\MNE-eegbci-data\\files\\eegmmidb\\1.0.0'.\n"
          ]
        },
        {
          "name": "stdout",
          "output_type": "stream",
          "text": [
            "Download complete in 24s (7.4 MB)\n",
            "Downloading EEGBCI data\n",
            "Downloading EEGBCI data\n"
          ]
        },
        {
          "name": "stderr",
          "output_type": "stream",
          "text": [
            "Downloading file 'S104/S104R04.edf' from 'https://physionet.org/files/eegmmidb/1.0.0/S104/S104R04.edf' to 'C:\\Users\\Chari\\OneDrive\\Documentos\\GitHub\\teste01\\mne_data\\MNE-eegbci-data\\files\\eegmmidb\\1.0.0'.\n",
            "Downloading file 'S104/S104R08.edf' from 'https://physionet.org/files/eegmmidb/1.0.0/S104/S104R08.edf' to 'C:\\Users\\Chari\\OneDrive\\Documentos\\GitHub\\teste01\\mne_data\\MNE-eegbci-data\\files\\eegmmidb\\1.0.0'.\n",
            "Downloading file 'S104/S104R08.edf' from 'https://physionet.org/files/eegmmidb/1.0.0/S104/S104R08.edf' to 'C:\\Users\\Chari\\OneDrive\\Documentos\\GitHub\\teste01\\mne_data\\MNE-eegbci-data\\files\\eegmmidb\\1.0.0'.\n",
            "Downloading file 'S104/S104R12.edf' from 'https://physionet.org/files/eegmmidb/1.0.0/S104/S104R12.edf' to 'C:\\Users\\Chari\\OneDrive\\Documentos\\GitHub\\teste01\\mne_data\\MNE-eegbci-data\\files\\eegmmidb\\1.0.0'.\n",
            "Downloading file 'S104/S104R12.edf' from 'https://physionet.org/files/eegmmidb/1.0.0/S104/S104R12.edf' to 'C:\\Users\\Chari\\OneDrive\\Documentos\\GitHub\\teste01\\mne_data\\MNE-eegbci-data\\files\\eegmmidb\\1.0.0'.\n"
          ]
        },
        {
          "name": "stdout",
          "output_type": "stream",
          "text": [
            "Download complete in 21s (7.0 MB)\n",
            "Downloading EEGBCI data\n",
            "Downloading EEGBCI data\n"
          ]
        },
        {
          "name": "stderr",
          "output_type": "stream",
          "text": [
            "Downloading file 'S105/S105R04.edf' from 'https://physionet.org/files/eegmmidb/1.0.0/S105/S105R04.edf' to 'C:\\Users\\Chari\\OneDrive\\Documentos\\GitHub\\teste01\\mne_data\\MNE-eegbci-data\\files\\eegmmidb\\1.0.0'.\n",
            "Downloading file 'S105/S105R08.edf' from 'https://physionet.org/files/eegmmidb/1.0.0/S105/S105R08.edf' to 'C:\\Users\\Chari\\OneDrive\\Documentos\\GitHub\\teste01\\mne_data\\MNE-eegbci-data\\files\\eegmmidb\\1.0.0'.\n",
            "Downloading file 'S105/S105R08.edf' from 'https://physionet.org/files/eegmmidb/1.0.0/S105/S105R08.edf' to 'C:\\Users\\Chari\\OneDrive\\Documentos\\GitHub\\teste01\\mne_data\\MNE-eegbci-data\\files\\eegmmidb\\1.0.0'.\n",
            "Downloading file 'S105/S105R12.edf' from 'https://physionet.org/files/eegmmidb/1.0.0/S105/S105R12.edf' to 'C:\\Users\\Chari\\OneDrive\\Documentos\\GitHub\\teste01\\mne_data\\MNE-eegbci-data\\files\\eegmmidb\\1.0.0'.\n",
            "Downloading file 'S105/S105R12.edf' from 'https://physionet.org/files/eegmmidb/1.0.0/S105/S105R12.edf' to 'C:\\Users\\Chari\\OneDrive\\Documentos\\GitHub\\teste01\\mne_data\\MNE-eegbci-data\\files\\eegmmidb\\1.0.0'.\n"
          ]
        },
        {
          "name": "stdout",
          "output_type": "stream",
          "text": [
            "Download complete in 22s (7.3 MB)\n",
            "Downloading EEGBCI data\n",
            "Downloading EEGBCI data\n"
          ]
        },
        {
          "name": "stderr",
          "output_type": "stream",
          "text": [
            "Downloading file 'S106/S106R04.edf' from 'https://physionet.org/files/eegmmidb/1.0.0/S106/S106R04.edf' to 'C:\\Users\\Chari\\OneDrive\\Documentos\\GitHub\\teste01\\mne_data\\MNE-eegbci-data\\files\\eegmmidb\\1.0.0'.\n",
            "Downloading file 'S106/S106R08.edf' from 'https://physionet.org/files/eegmmidb/1.0.0/S106/S106R08.edf' to 'C:\\Users\\Chari\\OneDrive\\Documentos\\GitHub\\teste01\\mne_data\\MNE-eegbci-data\\files\\eegmmidb\\1.0.0'.\n",
            "Downloading file 'S106/S106R08.edf' from 'https://physionet.org/files/eegmmidb/1.0.0/S106/S106R08.edf' to 'C:\\Users\\Chari\\OneDrive\\Documentos\\GitHub\\teste01\\mne_data\\MNE-eegbci-data\\files\\eegmmidb\\1.0.0'.\n",
            "Downloading file 'S106/S106R12.edf' from 'https://physionet.org/files/eegmmidb/1.0.0/S106/S106R12.edf' to 'C:\\Users\\Chari\\OneDrive\\Documentos\\GitHub\\teste01\\mne_data\\MNE-eegbci-data\\files\\eegmmidb\\1.0.0'.\n",
            "Downloading file 'S106/S106R12.edf' from 'https://physionet.org/files/eegmmidb/1.0.0/S106/S106R12.edf' to 'C:\\Users\\Chari\\OneDrive\\Documentos\\GitHub\\teste01\\mne_data\\MNE-eegbci-data\\files\\eegmmidb\\1.0.0'.\n"
          ]
        },
        {
          "name": "stdout",
          "output_type": "stream",
          "text": [
            "Download complete in 22s (7.4 MB)\n",
            "Downloading EEGBCI data\n",
            "Downloading EEGBCI data\n"
          ]
        },
        {
          "name": "stderr",
          "output_type": "stream",
          "text": [
            "Downloading file 'S107/S107R04.edf' from 'https://physionet.org/files/eegmmidb/1.0.0/S107/S107R04.edf' to 'C:\\Users\\Chari\\OneDrive\\Documentos\\GitHub\\teste01\\mne_data\\MNE-eegbci-data\\files\\eegmmidb\\1.0.0'.\n",
            "Downloading file 'S107/S107R08.edf' from 'https://physionet.org/files/eegmmidb/1.0.0/S107/S107R08.edf' to 'C:\\Users\\Chari\\OneDrive\\Documentos\\GitHub\\teste01\\mne_data\\MNE-eegbci-data\\files\\eegmmidb\\1.0.0'.\n",
            "Downloading file 'S107/S107R08.edf' from 'https://physionet.org/files/eegmmidb/1.0.0/S107/S107R08.edf' to 'C:\\Users\\Chari\\OneDrive\\Documentos\\GitHub\\teste01\\mne_data\\MNE-eegbci-data\\files\\eegmmidb\\1.0.0'.\n",
            "Downloading file 'S107/S107R12.edf' from 'https://physionet.org/files/eegmmidb/1.0.0/S107/S107R12.edf' to 'C:\\Users\\Chari\\OneDrive\\Documentos\\GitHub\\teste01\\mne_data\\MNE-eegbci-data\\files\\eegmmidb\\1.0.0'.\n",
            "Downloading file 'S107/S107R12.edf' from 'https://physionet.org/files/eegmmidb/1.0.0/S107/S107R12.edf' to 'C:\\Users\\Chari\\OneDrive\\Documentos\\GitHub\\teste01\\mne_data\\MNE-eegbci-data\\files\\eegmmidb\\1.0.0'.\n"
          ]
        },
        {
          "name": "stdout",
          "output_type": "stream",
          "text": [
            "Download complete in 25s (7.4 MB)\n",
            "Downloading EEGBCI data\n",
            "Downloading EEGBCI data\n"
          ]
        },
        {
          "name": "stderr",
          "output_type": "stream",
          "text": [
            "Downloading file 'S108/S108R04.edf' from 'https://physionet.org/files/eegmmidb/1.0.0/S108/S108R04.edf' to 'C:\\Users\\Chari\\OneDrive\\Documentos\\GitHub\\teste01\\mne_data\\MNE-eegbci-data\\files\\eegmmidb\\1.0.0'.\n",
            "Downloading file 'S108/S108R08.edf' from 'https://physionet.org/files/eegmmidb/1.0.0/S108/S108R08.edf' to 'C:\\Users\\Chari\\OneDrive\\Documentos\\GitHub\\teste01\\mne_data\\MNE-eegbci-data\\files\\eegmmidb\\1.0.0'.\n",
            "Downloading file 'S108/S108R08.edf' from 'https://physionet.org/files/eegmmidb/1.0.0/S108/S108R08.edf' to 'C:\\Users\\Chari\\OneDrive\\Documentos\\GitHub\\teste01\\mne_data\\MNE-eegbci-data\\files\\eegmmidb\\1.0.0'.\n",
            "Downloading file 'S108/S108R12.edf' from 'https://physionet.org/files/eegmmidb/1.0.0/S108/S108R12.edf' to 'C:\\Users\\Chari\\OneDrive\\Documentos\\GitHub\\teste01\\mne_data\\MNE-eegbci-data\\files\\eegmmidb\\1.0.0'.\n",
            "Downloading file 'S108/S108R12.edf' from 'https://physionet.org/files/eegmmidb/1.0.0/S108/S108R12.edf' to 'C:\\Users\\Chari\\OneDrive\\Documentos\\GitHub\\teste01\\mne_data\\MNE-eegbci-data\\files\\eegmmidb\\1.0.0'.\n"
          ]
        },
        {
          "name": "stdout",
          "output_type": "stream",
          "text": [
            "Download complete in 23s (7.3 MB)\n",
            "Downloading EEGBCI data\n",
            "Downloading EEGBCI data\n"
          ]
        },
        {
          "name": "stderr",
          "output_type": "stream",
          "text": [
            "Downloading file 'S109/S109R04.edf' from 'https://physionet.org/files/eegmmidb/1.0.0/S109/S109R04.edf' to 'C:\\Users\\Chari\\OneDrive\\Documentos\\GitHub\\teste01\\mne_data\\MNE-eegbci-data\\files\\eegmmidb\\1.0.0'.\n",
            "Downloading file 'S109/S109R08.edf' from 'https://physionet.org/files/eegmmidb/1.0.0/S109/S109R08.edf' to 'C:\\Users\\Chari\\OneDrive\\Documentos\\GitHub\\teste01\\mne_data\\MNE-eegbci-data\\files\\eegmmidb\\1.0.0'.\n",
            "Downloading file 'S109/S109R08.edf' from 'https://physionet.org/files/eegmmidb/1.0.0/S109/S109R08.edf' to 'C:\\Users\\Chari\\OneDrive\\Documentos\\GitHub\\teste01\\mne_data\\MNE-eegbci-data\\files\\eegmmidb\\1.0.0'.\n",
            "Downloading file 'S109/S109R12.edf' from 'https://physionet.org/files/eegmmidb/1.0.0/S109/S109R12.edf' to 'C:\\Users\\Chari\\OneDrive\\Documentos\\GitHub\\teste01\\mne_data\\MNE-eegbci-data\\files\\eegmmidb\\1.0.0'.\n",
            "Downloading file 'S109/S109R12.edf' from 'https://physionet.org/files/eegmmidb/1.0.0/S109/S109R12.edf' to 'C:\\Users\\Chari\\OneDrive\\Documentos\\GitHub\\teste01\\mne_data\\MNE-eegbci-data\\files\\eegmmidb\\1.0.0'.\n"
          ]
        },
        {
          "name": "stdout",
          "output_type": "stream",
          "text": [
            "Download complete in 22s (7.3 MB)\n"
          ]
        },
        {
          "ename": "ValueError",
          "evalue": "raws[261].info['sfreq'] must match",
          "output_type": "error",
          "traceback": [
            "\u001b[31m---------------------------------------------------------------------------\u001b[39m",
            "\u001b[31mValueError\u001b[39m                                Traceback (most recent call last)",
            "\u001b[36mCell\u001b[39m\u001b[36m \u001b[39m\u001b[32mIn[4]\u001b[39m\u001b[32m, line 27\u001b[39m\n\u001b[32m     25\u001b[39m physionet_paths = np.concatenate([eegbci.load_data(subj, IMAGINE_LEFT_RIGHT, path=\u001b[33mr\u001b[39m\u001b[33m\"\u001b[39m\u001b[33mC:\u001b[39m\u001b[33m\\\u001b[39m\u001b[33mUsers\u001b[39m\u001b[33m\\\u001b[39m\u001b[33mChari\u001b[39m\u001b[33m\\\u001b[39m\u001b[33mOneDrive\u001b[39m\u001b[33m\\\u001b[39m\u001b[33mDocumentos\u001b[39m\u001b[33m\\\u001b[39m\u001b[33mGitHub\u001b[39m\u001b[33m\\\u001b[39m\u001b[33mteste01\u001b[39m\u001b[33m\\\u001b[39m\u001b[33mmne_data\u001b[39m\u001b[33m\"\u001b[39m) \u001b[38;5;28;01mfor\u001b[39;00m subj \u001b[38;5;129;01min\u001b[39;00m subjects])\n\u001b[32m     26\u001b[39m raws = [mne.io.read_raw_edf(p, preload=\u001b[38;5;28;01mTrue\u001b[39;00m, stim_channel=\u001b[33m'\u001b[39m\u001b[33mauto\u001b[39m\u001b[33m'\u001b[39m, verbose=\u001b[33m'\u001b[39m\u001b[33mWARNING\u001b[39m\u001b[33m'\u001b[39m) \u001b[38;5;28;01mfor\u001b[39;00m p \u001b[38;5;129;01min\u001b[39;00m physionet_paths]\n\u001b[32m---> \u001b[39m\u001b[32m27\u001b[39m raw = \u001b[43mconcatenate_raws\u001b[49m\u001b[43m(\u001b[49m\u001b[43mraws\u001b[49m\u001b[43m)\u001b[49m\n\u001b[32m     28\u001b[39m raw.filter(\u001b[32m8.\u001b[39m, \u001b[32m30.\u001b[39m, fir_design=\u001b[33m'\u001b[39m\u001b[33mfirwin\u001b[39m\u001b[33m'\u001b[39m, verbose=\u001b[38;5;28;01mFalse\u001b[39;00m)\n\u001b[32m     30\u001b[39m \u001b[38;5;66;03m# Pick only selected channels\u001b[39;00m\n",
            "\u001b[36mFile \u001b[39m\u001b[32m<decorator-gen-203>:12\u001b[39m, in \u001b[36mconcatenate_raws\u001b[39m\u001b[34m(raws, preload, events_list, on_mismatch, verbose)\u001b[39m\n",
            "\u001b[36mFile \u001b[39m\u001b[32mc:\\Users\\Chari\\AppData\\Local\\Programs\\Python\\Python312\\Lib\\site-packages\\mne\\io\\base.py:3167\u001b[39m, in \u001b[36mconcatenate_raws\u001b[39m\u001b[34m(raws, preload, events_list, on_mismatch, verbose)\u001b[39m\n\u001b[32m   3141\u001b[39m \u001b[38;5;250m\u001b[39m\u001b[33;03m\"\"\"Concatenate `~mne.io.Raw` instances as if they were continuous.\u001b[39;00m\n\u001b[32m   3142\u001b[39m \n\u001b[32m   3143\u001b[39m \u001b[33;03m.. note:: ``raws[0]`` is modified in-place to achieve the concatenation.\u001b[39;00m\n\u001b[32m   (...)\u001b[39m\u001b[32m   3164\u001b[39m \u001b[33;03m    The events. Only returned if ``event_list`` is not None.\u001b[39;00m\n\u001b[32m   3165\u001b[39m \u001b[33;03m\"\"\"\u001b[39;00m\n\u001b[32m   3166\u001b[39m \u001b[38;5;28;01mfor\u001b[39;00m idx, raw \u001b[38;5;129;01min\u001b[39;00m \u001b[38;5;28menumerate\u001b[39m(raws[\u001b[32m1\u001b[39m:], start=\u001b[32m1\u001b[39m):\n\u001b[32m-> \u001b[39m\u001b[32m3167\u001b[39m     \u001b[43m_ensure_infos_match\u001b[49m\u001b[43m(\u001b[49m\n\u001b[32m   3168\u001b[39m \u001b[43m        \u001b[49m\u001b[43minfo1\u001b[49m\u001b[43m=\u001b[49m\u001b[43mraws\u001b[49m\u001b[43m[\u001b[49m\u001b[32;43m0\u001b[39;49m\u001b[43m]\u001b[49m\u001b[43m.\u001b[49m\u001b[43minfo\u001b[49m\u001b[43m,\u001b[49m\n\u001b[32m   3169\u001b[39m \u001b[43m        \u001b[49m\u001b[43minfo2\u001b[49m\u001b[43m=\u001b[49m\u001b[43mraw\u001b[49m\u001b[43m.\u001b[49m\u001b[43minfo\u001b[49m\u001b[43m,\u001b[49m\n\u001b[32m   3170\u001b[39m \u001b[43m        \u001b[49m\u001b[43mname\u001b[49m\u001b[43m=\u001b[49m\u001b[33;43mf\u001b[39;49m\u001b[33;43m\"\u001b[39;49m\u001b[33;43mraws[\u001b[39;49m\u001b[38;5;132;43;01m{\u001b[39;49;00m\u001b[43midx\u001b[49m\u001b[38;5;132;43;01m}\u001b[39;49;00m\u001b[33;43m]\u001b[39;49m\u001b[33;43m\"\u001b[39;49m\u001b[43m,\u001b[49m\n\u001b[32m   3171\u001b[39m \u001b[43m        \u001b[49m\u001b[43mon_mismatch\u001b[49m\u001b[43m=\u001b[49m\u001b[43mon_mismatch\u001b[49m\u001b[43m,\u001b[49m\n\u001b[32m   3172\u001b[39m \u001b[43m    \u001b[49m\u001b[43m)\u001b[49m\n\u001b[32m   3174\u001b[39m \u001b[38;5;28;01mif\u001b[39;00m events_list \u001b[38;5;129;01mis\u001b[39;00m \u001b[38;5;129;01mnot\u001b[39;00m \u001b[38;5;28;01mNone\u001b[39;00m:\n\u001b[32m   3175\u001b[39m     \u001b[38;5;28;01mif\u001b[39;00m \u001b[38;5;28mlen\u001b[39m(events_list) != \u001b[38;5;28mlen\u001b[39m(raws):\n",
            "\u001b[36mFile \u001b[39m\u001b[32mc:\\Users\\Chari\\AppData\\Local\\Programs\\Python\\Python312\\Lib\\site-packages\\mne\\_fiff\\meas_info.py:3711\u001b[39m, in \u001b[36m_ensure_infos_match\u001b[39m\u001b[34m(info1, info2, name, on_mismatch)\u001b[39m\n\u001b[32m   3709\u001b[39m     \u001b[38;5;28;01mraise\u001b[39;00m \u001b[38;5;167;01mValueError\u001b[39;00m(\u001b[33mf\u001b[39m\u001b[33m\"\u001b[39m\u001b[38;5;132;01m{\u001b[39;00mname\u001b[38;5;132;01m}\u001b[39;00m\u001b[33m.info[\u001b[39m\u001b[33m'\u001b[39m\u001b[33mbads\u001b[39m\u001b[33m'\u001b[39m\u001b[33m] must match\u001b[39m\u001b[33m\"\u001b[39m)\n\u001b[32m   3710\u001b[39m \u001b[38;5;28;01mif\u001b[39;00m info1[\u001b[33m\"\u001b[39m\u001b[33msfreq\u001b[39m\u001b[33m\"\u001b[39m] != info2[\u001b[33m\"\u001b[39m\u001b[33msfreq\u001b[39m\u001b[33m\"\u001b[39m]:\n\u001b[32m-> \u001b[39m\u001b[32m3711\u001b[39m     \u001b[38;5;28;01mraise\u001b[39;00m \u001b[38;5;167;01mValueError\u001b[39;00m(\u001b[33mf\u001b[39m\u001b[33m\"\u001b[39m\u001b[38;5;132;01m{\u001b[39;00mname\u001b[38;5;132;01m}\u001b[39;00m\u001b[33m.info[\u001b[39m\u001b[33m'\u001b[39m\u001b[33msfreq\u001b[39m\u001b[33m'\u001b[39m\u001b[33m] must match\u001b[39m\u001b[33m\"\u001b[39m)\n\u001b[32m   3712\u001b[39m \u001b[38;5;28;01mif\u001b[39;00m \u001b[38;5;28mset\u001b[39m(info1[\u001b[33m\"\u001b[39m\u001b[33mch_names\u001b[39m\u001b[33m\"\u001b[39m]) != \u001b[38;5;28mset\u001b[39m(info2[\u001b[33m\"\u001b[39m\u001b[33mch_names\u001b[39m\u001b[33m\"\u001b[39m]):\n\u001b[32m   3713\u001b[39m     \u001b[38;5;28;01mraise\u001b[39;00m \u001b[38;5;167;01mValueError\u001b[39;00m(\u001b[33mf\u001b[39m\u001b[33m\"\u001b[39m\u001b[38;5;132;01m{\u001b[39;00mname\u001b[38;5;132;01m}\u001b[39;00m\u001b[33m.info[\u001b[39m\u001b[33m'\u001b[39m\u001b[33mch_names\u001b[39m\u001b[33m'\u001b[39m\u001b[33m] must match\u001b[39m\u001b[33m\"\u001b[39m)\n",
            "\u001b[31mValueError\u001b[39m: raws[261].info['sfreq'] must match"
          ]
        }
      ],
      "source": [
        "import numpy as np\n",
        "import mne\n",
        "from mne import concatenate_raws\n",
        "from mne.datasets import eegbci\n",
        "from sklearn.model_selection import train_test_split\n",
        "from sklearn.metrics import accuracy_score, f1_score\n",
        "from sklearn.preprocessing import StandardScaler\n",
        "import tensorflow as tf\n",
        "from tensorflow.keras.models import Model\n",
        "from tensorflow.keras.layers import (Input, Conv2D, DepthwiseConv2D, SeparableConv2D, BatchNormalization,\n",
        "                                     Activation, AveragePooling2D, Dropout, Flatten, Dense)\n",
        "from collections import Counter\n",
        "import matplotlib.pyplot as plt\n",
        "import warnings\n",
        "\n",
        "warnings.filterwarnings(\"ignore\")\n",
        "\n",
        "# Parameters\n",
        "IMAGINE_LEFT_RIGHT = [4, 8, 12]\n",
        "subjects = range(1, 21)\n",
        "selected_channels = ['C3..', 'C4..', 'Fp1.', 'Fp2.', 'F7..', 'F3..', 'F4..', 'F8..',\n",
        "                     'T7..', 'T8..', 'P7..', 'P3..', 'P4..', 'P8..', 'O1..', 'O2..']\n",
        "\n",
        "# Load and preprocess data\n",
        "physionet_paths = np.concatenate([eegbci.load_data(subj, IMAGINE_LEFT_RIGHT, path=\"/root/mne_data\") for subj in subjects])\n",
        "raws = [mne.io.read_raw_edf(p, preload=True, stim_channel='auto', verbose='WARNING') for p in physionet_paths]\n",
        "raw = concatenate_raws(raws)\n",
        "raw.filter(8., 30., fir_design='firwin', verbose=False)\n",
        "\n",
        "# Pick only selected channels\n",
        "raw.pick_channels(selected_channels)\n",
        "\n",
        "# Extract epochs (T1 = left, T2 = right)\n",
        "events, _ = mne.events_from_annotations(raw)\n",
        "event_id = dict(T1=1, T2=2)\n",
        "eeg_picks = mne.pick_types(raw.info, eeg=True, exclude='bads')\n",
        "epochs = mne.Epochs(raw, events, event_id=event_id, tmin=1, tmax=4.1, proj=False,\n",
        "                    picks=eeg_picks, baseline=None, preload=True, verbose=False)\n",
        "\n",
        "X = (epochs.get_data() * 1e6).astype(np.float32)\n",
        "y = epochs.events[:, -1] - 1\n",
        "\n",
        "# Normalize each trial per channel\n",
        "X_reshaped = X.reshape(X.shape[0], X.shape[1], -1)\n",
        "X_norm = np.zeros_like(X_reshaped)\n",
        "for i in range(X.shape[0]):\n",
        "    X_norm[i] = StandardScaler().fit_transform(X_reshaped[i].T).T\n",
        "X = X_norm.reshape(X.shape)\n",
        "\n",
        "# Train/test split\n",
        "X_train, X_test, y_train, y_test = train_test_split(X, y, test_size=0.2, random_state=42, stratify=y)\n",
        "\n",
        "# Debug prints\n",
        "print(f\"Total trials: {X.shape[0]}\")\n",
        "print(f\"Train trials: {X_train.shape[0]}, Test trials: {X_test.shape[0]}\")\n",
        "steps_per_epoch = np.ceil(X_train.shape[0] * 0.8 / 64)\n",
        "print(f\"Expected batches per epoch: {steps_per_epoch}\")\n",
        "print(\"Labels balance (train):\", Counter(y_train))\n",
        "print(\"Labels balance (test):\", Counter(y_test))\n",
        "\n",
        "# Reshape for EEGNet\n",
        "X_train = X_train.transpose(0, 1, 2)[..., np.newaxis]\n",
        "X_test = X_test.transpose(0, 1, 2)[..., np.newaxis]\n",
        "\n",
        "# EEGNet model\n",
        "def EEGNet(nb_classes, Chans=16, Samples=496, dropoutRate=0.5, kernLength=64, F1=16, D=4, F2=64):\n",
        "    input_main = Input(shape=(Chans, Samples, 1))\n",
        "    block1 = Conv2D(F1, (1, kernLength), padding='same', use_bias=False)(input_main)\n",
        "    block1 = BatchNormalization()(block1)\n",
        "    block1 = DepthwiseConv2D((Chans, 1), use_bias=False, depth_multiplier=D)(block1)\n",
        "    block1 = BatchNormalization()(block1)\n",
        "    block1 = Activation('elu')(block1)\n",
        "    block1 = AveragePooling2D((1, 4))(block1)\n",
        "    block1 = Dropout(dropoutRate)(block1)\n",
        "\n",
        "    block2 = SeparableConv2D(F2, (1, 16), use_bias=False, padding='same')(block1)\n",
        "    block2 = BatchNormalization()(block2)\n",
        "    block2 = Activation('elu')(block2)\n",
        "    block2 = AveragePooling2D((1, 8))(block2)\n",
        "    block2 = Dropout(dropoutRate)(block2)\n",
        "\n",
        "    flatten = Flatten()(block2)\n",
        "    dense = Dense(nb_classes, activation='softmax')(flatten)\n",
        "    return Model(inputs=input_main, outputs=dense)\n",
        "\n",
        "model = EEGNet(nb_classes=2, Chans=X_train.shape[1], Samples=X_train.shape[2])\n",
        "model.compile(optimizer='adam', loss='sparse_categorical_crossentropy', metrics=['accuracy'])\n",
        "model.summary()\n",
        "\n",
        "# Training without early stopping\n",
        "history = model.fit(X_train, y_train, batch_size=64, epochs=100, validation_split=0.2, verbose=1)\n",
        "\n",
        "# Evaluation\n",
        "y_pred = model.predict(X_test).argmax(axis=-1)\n",
        "print(\"Predicted classes:\", np.unique(y_pred, return_counts=True))\n",
        "acc = accuracy_score(y_test, y_pred)\n",
        "f1 = f1_score(y_test, y_pred)\n",
        "print(f\"Test Accuracy: {acc:.4f}, F1 Score: {f1:.4f}\")\n",
        "\n",
        "# Plotting training history\n",
        "plt.figure(figsize=(12, 5))\n",
        "plt.subplot(1, 2, 1)\n",
        "plt.plot(history.history['loss'], label='Train Loss')\n",
        "plt.plot(history.history['val_loss'], label='Validation Loss')\n",
        "plt.title('Loss over epochs')\n",
        "plt.xlabel('Epochs')\n",
        "plt.ylabel('Loss')\n",
        "plt.legend()\n",
        "\n",
        "plt.subplot(1, 2, 2)\n",
        "plt.plot(history.history['accuracy'], label='Train Accuracy')\n",
        "plt.plot(history.history['val_accuracy'], label='Validation Accuracy')\n",
        "plt.title('Accuracy over epochs')\n",
        "plt.xlabel('Epochs')\n",
        "plt.ylabel('Accuracy')\n",
        "plt.legend()\n",
        "\n",
        "plt.tight_layout()\n",
        "plt.show()\n"
      ]
    },
    {
      "cell_type": "code",
      "execution_count": null,
      "metadata": {
        "id": "rxT1RIBAF1oE"
      },
      "outputs": [],
      "source": [
        "import os\n",
        "import numpy as np\n",
        "import mne\n",
        "from mne import concatenate_raws\n",
        "from mne.datasets import eegbci\n",
        "from scipy.signal import stft\n",
        "from sklearn.model_selection import train_test_split\n",
        "from sklearn.metrics import accuracy_score, f1_score\n",
        "import tensorflow as tf\n",
        "from tensorflow.keras.layers import Input, Conv2D, MaxPooling2D, Dropout, Flatten, Dense, Concatenate\n",
        "from tensorflow.keras.models import Model\n",
        "import matplotlib.pyplot as plt\n",
        "\n",
        "# Diretório de espectrogramas (sem logging)\n",
        "spectrogram_dir = r\"C:\\Users\\Chari\\OneDrive\\Documentos\\GitHub\\teste01\\spectrograms\"\n",
        "os.makedirs(spectrogram_dir, exist_ok=True)\n",
        "\n",
        "# Parâmetros gerais\n",
        "IMAGINE_LEFT_RIGHT = [4, 8, 12]\n",
        "subjects = range(1, 21)\n",
        "selected_channels = ['C3..', 'C4..', 'Fp1.', 'Fp2.', 'F7..', 'F3..', 'F4..', 'F8..',\n",
        "                     'T7..', 'T8..', 'P7..', 'P3..', 'P4..', 'P8..', 'O1..', 'O2..']\n",
        "\n",
        "# Carregamento dos dados\n",
        "physionet_paths = np.concatenate([\n",
        "    eegbci.load_data(subj, IMAGINE_LEFT_RIGHT, path=r\"C:\\Users\\Chari\\OneDrive\\Documentos\\GitHub\\teste01\\mne_data\") for subj in subjects\n",
        "])\n",
        "raws = [mne.io.read_raw_edf(p, preload=True, stim_channel='auto', verbose='WARNING') for p in physionet_paths]\n",
        "raw = concatenate_raws(raws)\n",
        "raw.filter(8., 30., fir_design='firwin', verbose=False)\n",
        "raw.pick_channels(selected_channels)\n",
        "\n",
        "# Eventos e epochs\n",
        "events, _ = mne.events_from_annotations(raw)\n",
        "event_id = dict(T1=1, T2=2)\n",
        "epochs = mne.Epochs(raw, events, event_id=event_id, tmin=1, tmax=4.1, baseline=None, preload=True, verbose=False)\n",
        "\n",
        "# Função de geração de espectrograma\n",
        "def generate_spectrogram(trial, fs=250, window='hann', nperseg=64, noverlap=50):\n",
        "    f, t, Zxx = stft(trial, fs=fs, window=window, nperseg=nperseg, noverlap=noverlap)\n",
        "    mu_band = (f >= 8) & (f <= 14)\n",
        "    beta_band = (f >= 16) & (f <= 30)\n",
        "    spec_mu = np.abs(Zxx[mu_band, :])\n",
        "    spec_beta = np.abs(Zxx[beta_band, :])\n",
        "    spec_mu = np.resize(spec_mu, (20, 32))\n",
        "    spec_beta = np.resize(spec_beta, (20, 32))\n",
        "    return np.concatenate((spec_mu, spec_beta), axis=0)\n",
        "\n",
        "# Geração de espectrogramas e labels\n",
        "X, y = [], []\n",
        "for i, (epoch, label) in enumerate(zip(epochs.get_data(), epochs.events[:, -1] - 1)):\n",
        "    combined_spec = []\n",
        "    for ch_idx, ch_data in enumerate(epoch):\n",
        "        spec = generate_spectrogram(ch_data)\n",
        "        combined_spec.append(spec)\n",
        "    full_image = np.stack(combined_spec, axis=-1)  # shape (40, 32, 16)\n",
        "    X.append(full_image)\n",
        "    y.append(label)\n",
        "\n",
        "X = np.array(X, dtype=np.float32)\n",
        "y = np.array(y)\n",
        "\n",
        "# Train/test split\n",
        "X_train, X_test, y_train, y_test = train_test_split(X, y, test_size=0.2, stratify=y, random_state=42)\n",
        "\n",
        "# CNN ajustada para 16 canais\n",
        "\n",
        "def build_model(input_shape=(40, 32, 16), num_classes=2):\n",
        "    inp = Input(shape=input_shape)\n",
        "    x1 = Conv2D(32, (3, 3), activation='relu', padding='same')(inp)\n",
        "    x2 = Conv2D(32, (3, 3), activation='relu', padding='same')(x1)\n",
        "    x3 = Concatenate()([x1, x2])\n",
        "    x4 = MaxPooling2D((2, 2))(x3)\n",
        "    x5 = Conv2D(64, (3, 3), activation='relu', padding='same')(x4)\n",
        "    x6 = Flatten()(x5)\n",
        "    x6 = Dropout(0.5)(x6)\n",
        "    out = Dense(num_classes, activation='softmax')(x6)\n",
        "    return Model(inputs=inp, outputs=out)\n",
        "\n",
        "# Treinamento do modelo\n",
        "model = build_model()\n",
        "model.compile(optimizer='adam', loss='sparse_categorical_crossentropy', metrics=['accuracy'])\n",
        "model.summary()\n",
        "model.fit(X_train, y_train, epochs=100, batch_size=32, validation_split=0.2)\n",
        "\n",
        "# Avaliação\n",
        "y_pred = model.predict(X_test).argmax(axis=-1)\n",
        "print(f\"Accuracy: {accuracy_score(y_test, y_pred):.4f}, F1 Score: {f1_score(y_test, y_pred):.4f}\")"
      ]
    },
    {
      "cell_type": "code",
      "execution_count": null,
      "metadata": {
        "id": "nP2iCWtOFfaa"
      },
      "outputs": [],
      "source": [
        "import os\n",
        "import numpy as np\n",
        "import mne\n",
        "from scipy.signal import stft\n",
        "from sklearn.model_selection import train_test_split\n",
        "from sklearn.metrics import accuracy_score, f1_score\n",
        "import tensorflow as tf\n",
        "from tensorflow.keras.layers import Input, Conv2D, MaxPooling2D, Dropout, Flatten, Dense, Concatenate\n",
        "from tensorflow.keras.models import Model\n",
        "import matplotlib.pyplot as plt\n",
        "\n",
        "# Diretório dos arquivos GDF do BCI IV 2b\n",
        "data_path = 'BCICIV_2b_gdf'\n",
        "subjects = ['B01', 'B02', 'B03', 'B04', 'B05', 'B06', 'B07', 'B08', 'B09']\n",
        "sessions = ['01T']  # Apenas sessões de treino\n",
        "\n",
        "raw_list = []\n",
        "for subj in subjects:\n",
        "    for sess in sessions:\n",
        "        file_path = os.path.join(data_path, f'{subj}{sess}.gdf')\n",
        "        print(f\"Verificando: {file_path}\")\n",
        "        if os.path.exists(file_path):\n",
        "            try:\n",
        "                raw = mne.io.read_raw_gdf(file_path, preload=True, stim_channel=None, verbose='ERROR')\n",
        "                raw.pick_channels(['C3', 'Cz', 'C4'])\n",
        "                raw.filter(8., 30., fir_design='firwin', verbose=False)\n",
        "                raw_list.append(raw)\n",
        "            except Exception as e:\n",
        "                print(f\"Erro ao ler {file_path} com MNE: {e}\")\n",
        "        else:\n",
        "            print(f\"Arquivo não encontrado: {file_path}\")\n",
        "\n",
        "if not raw_list:\n",
        "    raise RuntimeError(\"Nenhum arquivo GDF foi carregado com MNE. Verifique os dados.\")\n",
        "\n",
        "raw = mne.concatenate_raws(raw_list)\n",
        "events, _ = mne.events_from_annotations(raw)\n",
        "event_id = {'Left Hand': 1, 'Right Hand': 2}\n",
        "epochs = mne.Epochs(raw, events, event_id=event_id, tmin=3.0, tmax=7.0,\n",
        "                    baseline=None, preload=True, verbose=False)\n",
        "\n",
        "fs = int(raw.info['sfreq'])\n",
        "X, y = [], []\n",
        "for epoch, label in zip(epochs.get_data(), epochs.events[:, -1]):\n",
        "    spec = []\n",
        "    for ch_data in epoch:\n",
        "        f, t, Zxx = stft(ch_data, fs=fs, nperseg=64, noverlap=32)\n",
        "        mu_band = (f >= 8) & (f <= 14)\n",
        "        beta_band = (f >= 16) & (f <= 30)\n",
        "        spec_mu = np.abs(Zxx[mu_band, :])\n",
        "        spec_beta = np.abs(Zxx[beta_band, :])\n",
        "        spec_mu = np.resize(spec_mu, (20, 32))\n",
        "        spec_beta = np.resize(spec_beta, (20, 32))\n",
        "        spec_combined = np.concatenate((spec_mu, spec_beta), axis=0)\n",
        "        spec.append(spec_combined)\n",
        "    X.append(np.stack(spec, axis=-1))\n",
        "    y.append(label - 1)\n",
        "\n",
        "X = np.array(X, dtype=np.float32)\n",
        "y = np.array(y)\n",
        "\n",
        "X_train, X_test, y_train, y_test = train_test_split(X, y, test_size=0.2, random_state=42)\n",
        "\n",
        "def build_model(input_shape=(40, 32, 3), num_classes=2):\n",
        "    inp = Input(shape=input_shape)\n",
        "    x1 = Conv2D(32, (3, 3), activation='relu', padding='same')(inp)\n",
        "    x2 = Conv2D(32, (3, 3), activation='relu', padding='same')(x1)\n",
        "    x3 = Concatenate()([x1, x2])\n",
        "    x4 = MaxPooling2D((2, 2))(x3)\n",
        "    x5 = Conv2D(64, (3, 3), activation='relu', padding='same')(x4)\n",
        "    x6 = Flatten()(x5)\n",
        "    x6 = Dropout(0.5)(x6)\n",
        "    out = Dense(num_classes, activation='softmax')(x6)\n",
        "    return Model(inputs=inp, outputs=out)\n",
        "\n",
        "model = build_model(input_shape=X_train.shape[1:], num_classes=2)\n",
        "model.compile(optimizer='adam', loss='sparse_categorical_crossentropy', metrics=['accuracy'])\n",
        "model.summary()\n",
        "\n",
        "model.fit(X_train, y_train, epochs=5, batch_size=16, validation_split=0.2)\n",
        "y_pred = model.predict(X_test).argmax(axis=-1)\n",
        "print(f\"Accuracy: {accuracy_score(y_test, y_pred):.4f}, F1 Score: {f1_score(y_test, y_pred):.4f}\")"
      ]
    }
  ],
  "metadata": {
    "accelerator": "GPU",
    "colab": {
      "gpuType": "T4",
      "provenance": []
    },
    "kernelspec": {
      "display_name": "Python 3",
      "name": "python3"
    },
    "language_info": {
      "codemirror_mode": {
        "name": "ipython",
        "version": 3
      },
      "file_extension": ".py",
      "mimetype": "text/x-python",
      "name": "python",
      "nbconvert_exporter": "python",
      "pygments_lexer": "ipython3",
      "version": "3.12.7"
    }
  },
  "nbformat": 4,
  "nbformat_minor": 0
}
