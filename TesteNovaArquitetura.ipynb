{
  "nbformat": 4,
  "nbformat_minor": 0,
  "metadata": {
    "colab": {
      "provenance": [],
      "gpuType": "T4",
      "mount_file_id": "14gs_Jv6hIOE4WFanMtKmTf2TsPl6dygV",
      "authorship_tag": "ABX9TyMkwqbmV9YBLYtHIl7Kx/JI",
      "include_colab_link": true
    },
    "kernelspec": {
      "name": "python3",
      "display_name": "Python 3"
    },
    "language_info": {
      "name": "python"
    },
    "accelerator": "GPU"
  },
  "cells": [
    {
      "cell_type": "markdown",
      "metadata": {
        "id": "view-in-github",
        "colab_type": "text"
      },
      "source": [
        "<a href=\"https://colab.research.google.com/github/Bruno-BRG/testeBCI/blob/main/TesteNovaArquitetura.ipynb\" target=\"_parent\"><img src=\"https://colab.research.google.com/assets/colab-badge.svg\" alt=\"Open In Colab\"/></a>"
      ]
    },
    {
      "cell_type": "code",
      "source": [
        "# ─── GPU CHECK ────────────────────────────────────────────────────────────────\n",
        "!nvidia-smi\n",
        "\n",
        "# ─── TENSORFLOW SETUP ─────────────────────────────────────────────────────────\n",
        "import tensorflow as tf\n",
        "\n",
        "# List GPUs\n",
        "gpus = tf.config.list_physical_devices('GPU')\n",
        "if not gpus:\n",
        "    print(\"❌ No GPU detected by TensorFlow. Make sure your runtime is set to GPU.\")\n",
        "else:\n",
        "    # Enable memory growth to avoid full-GPU allocation\n",
        "    for gpu in gpus:\n",
        "        tf.config.experimental.set_memory_growth(gpu, True)\n",
        "    logical_gpus = tf.config.list_logical_devices('GPU')\n",
        "    print(f\"✅ TensorFlow sees {len(gpus)} physical GPU(s) and {len(logical_gpus)} logical GPU(s).\")\n",
        "\n",
        "# ─── PYTORCH SETUP ────────────────────────────────────────────────────────────\n",
        "import torch\n",
        "\n",
        "# Select device\n",
        "device = torch.device(\"cuda\" if torch.cuda.is_available() else \"cpu\")\n",
        "print(f\"🗄️  PyTorch will use: {device}\")\n",
        "\n",
        "# ─── USAGE EXAMPLE ────────────────────────────────────────────────────────────\n",
        "# When you build your model and load data, remember:\n",
        "# model = MyModel(...).to(device)\n",
        "# data = data.to(device)\n",
        "# target = target.to(device)\n",
        "# ... then forward/backward as usual.\n"
      ],
      "metadata": {
        "colab": {
          "base_uri": "https://localhost:8080/"
        },
        "collapsed": true,
        "id": "76ku8A4BaAxm",
        "outputId": "0b6c000e-bee3-45ae-b9c1-a749f9edf830"
      },
      "execution_count": 1,
      "outputs": [
        {
          "output_type": "stream",
          "name": "stdout",
          "text": [
            "Tue May 20 22:22:01 2025       \n",
            "+-----------------------------------------------------------------------------------------+\n",
            "| NVIDIA-SMI 550.54.15              Driver Version: 550.54.15      CUDA Version: 12.4     |\n",
            "|-----------------------------------------+------------------------+----------------------+\n",
            "| GPU  Name                 Persistence-M | Bus-Id          Disp.A | Volatile Uncorr. ECC |\n",
            "| Fan  Temp   Perf          Pwr:Usage/Cap |           Memory-Usage | GPU-Util  Compute M. |\n",
            "|                                         |                        |               MIG M. |\n",
            "|=========================================+========================+======================|\n",
            "|   0  Tesla T4                       Off |   00000000:00:04.0 Off |                    0 |\n",
            "| N/A   48C    P8             12W /   70W |       0MiB /  15360MiB |      0%      Default |\n",
            "|                                         |                        |                  N/A |\n",
            "+-----------------------------------------+------------------------+----------------------+\n",
            "                                                                                         \n",
            "+-----------------------------------------------------------------------------------------+\n",
            "| Processes:                                                                              |\n",
            "|  GPU   GI   CI        PID   Type   Process name                              GPU Memory |\n",
            "|        ID   ID                                                               Usage      |\n",
            "|=========================================================================================|\n",
            "|  No running processes found                                                             |\n",
            "+-----------------------------------------------------------------------------------------+\n",
            "✅ TensorFlow sees 1 physical GPU(s) and 1 logical GPU(s).\n",
            "🗄️  PyTorch will use: cuda\n"
          ]
        }
      ]
    },
    {
      "cell_type": "code",
      "source": [
        "from google.colab import drive\n",
        "drive.mount('/content/drive')"
      ],
      "metadata": {
        "id": "w-TkZzRwaVzT"
      },
      "execution_count": null,
      "outputs": []
    },
    {
      "cell_type": "code",
      "source": [
        "!pip install mne"
      ],
      "metadata": {
        "colab": {
          "base_uri": "https://localhost:8080/"
        },
        "id": "Ql4RQSYOxWiL",
        "outputId": "133a6867-427e-407c-8acc-400747631f64",
        "collapsed": true
      },
      "execution_count": 3,
      "outputs": [
        {
          "output_type": "stream",
          "name": "stdout",
          "text": [
            "Collecting mne\n",
            "  Downloading mne-1.9.0-py3-none-any.whl.metadata (20 kB)\n",
            "Requirement already satisfied: decorator in /usr/local/lib/python3.11/dist-packages (from mne) (4.4.2)\n",
            "Requirement already satisfied: jinja2 in /usr/local/lib/python3.11/dist-packages (from mne) (3.1.6)\n",
            "Requirement already satisfied: lazy-loader>=0.3 in /usr/local/lib/python3.11/dist-packages (from mne) (0.4)\n",
            "Requirement already satisfied: matplotlib>=3.6 in /usr/local/lib/python3.11/dist-packages (from mne) (3.10.0)\n",
            "Requirement already satisfied: numpy<3,>=1.23 in /usr/local/lib/python3.11/dist-packages (from mne) (2.0.2)\n",
            "Requirement already satisfied: packaging in /usr/local/lib/python3.11/dist-packages (from mne) (24.2)\n",
            "Requirement already satisfied: pooch>=1.5 in /usr/local/lib/python3.11/dist-packages (from mne) (1.8.2)\n",
            "Requirement already satisfied: scipy>=1.9 in /usr/local/lib/python3.11/dist-packages (from mne) (1.15.3)\n",
            "Requirement already satisfied: tqdm in /usr/local/lib/python3.11/dist-packages (from mne) (4.67.1)\n",
            "Requirement already satisfied: contourpy>=1.0.1 in /usr/local/lib/python3.11/dist-packages (from matplotlib>=3.6->mne) (1.3.2)\n",
            "Requirement already satisfied: cycler>=0.10 in /usr/local/lib/python3.11/dist-packages (from matplotlib>=3.6->mne) (0.12.1)\n",
            "Requirement already satisfied: fonttools>=4.22.0 in /usr/local/lib/python3.11/dist-packages (from matplotlib>=3.6->mne) (4.58.0)\n",
            "Requirement already satisfied: kiwisolver>=1.3.1 in /usr/local/lib/python3.11/dist-packages (from matplotlib>=3.6->mne) (1.4.8)\n",
            "Requirement already satisfied: pillow>=8 in /usr/local/lib/python3.11/dist-packages (from matplotlib>=3.6->mne) (11.2.1)\n",
            "Requirement already satisfied: pyparsing>=2.3.1 in /usr/local/lib/python3.11/dist-packages (from matplotlib>=3.6->mne) (3.2.3)\n",
            "Requirement already satisfied: python-dateutil>=2.7 in /usr/local/lib/python3.11/dist-packages (from matplotlib>=3.6->mne) (2.9.0.post0)\n",
            "Requirement already satisfied: platformdirs>=2.5.0 in /usr/local/lib/python3.11/dist-packages (from pooch>=1.5->mne) (4.3.8)\n",
            "Requirement already satisfied: requests>=2.19.0 in /usr/local/lib/python3.11/dist-packages (from pooch>=1.5->mne) (2.32.3)\n",
            "Requirement already satisfied: MarkupSafe>=2.0 in /usr/local/lib/python3.11/dist-packages (from jinja2->mne) (3.0.2)\n",
            "Requirement already satisfied: six>=1.5 in /usr/local/lib/python3.11/dist-packages (from python-dateutil>=2.7->matplotlib>=3.6->mne) (1.17.0)\n",
            "Requirement already satisfied: charset-normalizer<4,>=2 in /usr/local/lib/python3.11/dist-packages (from requests>=2.19.0->pooch>=1.5->mne) (3.4.2)\n",
            "Requirement already satisfied: idna<4,>=2.5 in /usr/local/lib/python3.11/dist-packages (from requests>=2.19.0->pooch>=1.5->mne) (3.10)\n",
            "Requirement already satisfied: urllib3<3,>=1.21.1 in /usr/local/lib/python3.11/dist-packages (from requests>=2.19.0->pooch>=1.5->mne) (2.4.0)\n",
            "Requirement already satisfied: certifi>=2017.4.17 in /usr/local/lib/python3.11/dist-packages (from requests>=2.19.0->pooch>=1.5->mne) (2025.4.26)\n",
            "Downloading mne-1.9.0-py3-none-any.whl (7.4 MB)\n",
            "\u001b[2K   \u001b[90m━━━━━━━━━━━━━━━━━━━━━━━━━━━━━━━━━━━━━━━━\u001b[0m \u001b[32m7.4/7.4 MB\u001b[0m \u001b[31m76.4 MB/s\u001b[0m eta \u001b[36m0:00:00\u001b[0m\n",
            "\u001b[?25hInstalling collected packages: mne\n",
            "Successfully installed mne-1.9.0\n"
          ]
        }
      ]
    },
    {
      "cell_type": "markdown",
      "source": [
        "# Modelo EEGNet\n"
      ],
      "metadata": {
        "id": "M1xSAyGN27EI"
      }
    },
    {
      "cell_type": "code",
      "source": [
        "import numpy as np\n",
        "import mne\n",
        "from mne import concatenate_raws\n",
        "from mne.datasets import eegbci\n",
        "from sklearn.model_selection import train_test_split\n",
        "from sklearn.metrics import accuracy_score, f1_score\n",
        "from sklearn.preprocessing import StandardScaler\n",
        "import tensorflow as tf\n",
        "from tensorflow.keras.models import Model\n",
        "from tensorflow.keras.layers import (Input, Conv2D, DepthwiseConv2D, SeparableConv2D, BatchNormalization,\n",
        "                                     Activation, AveragePooling2D, Dropout, Flatten, Dense)\n",
        "from collections import Counter\n",
        "import matplotlib.pyplot as plt\n",
        "import warnings\n",
        "\n",
        "warnings.filterwarnings(\"ignore\")\n",
        "\n",
        "# Parameters\n",
        "IMAGINE_LEFT_RIGHT = [4, 8, 12]\n",
        "subjects = range(1, 110)\n",
        "selected_channels = ['C3..', 'C4..', 'Fp1.', 'Fp2.', 'F7..', 'F3..', 'F4..', 'F8..',\n",
        "                     'T7..', 'T8..', 'P7..', 'P3..', 'P4..', 'P8..', 'O1..', 'O2..']\n",
        "\n",
        "# Load raw data paths\n",
        "physionet_paths = np.concatenate([\n",
        "    eegbci.load_data(subj, IMAGINE_LEFT_RIGHT, path=\"/root/mne_data\")\n",
        "    for subj in subjects\n",
        "])\n",
        "# Read Raw objects\n",
        "raws = [\n",
        "    mne.io.read_raw_edf(p, preload=True, stim_channel='auto', verbose='WARNING')\n",
        "    for p in physionet_paths\n",
        "]\n",
        "\n",
        "# Check original sampling frequencies\n",
        "sfreqs = np.unique([r.info['sfreq'] for r in raws])\n",
        "print(\"Original sampling freqs:\", sfreqs)\n",
        "# Resample all raws to the lowest frequency\n",
        "target_sfreq = int(sfreqs.min())\n",
        "for r in raws:\n",
        "    r.resample(target_sfreq, npad='auto')\n",
        "print(f\"Resampled all raws to {target_sfreq} Hz\")\n",
        "\n",
        "# Concatenate\n",
        "raw = concatenate_raws(raws)\n",
        "\n",
        "# Band-pass filter\n",
        "raw.filter(8., 30., fir_design='firwin', verbose=False)\n",
        "\n",
        "# Pick only selected channels\n",
        "raw.pick_channels(selected_channels)\n",
        "\n",
        "# Extract epochs (T1 = left, T2 = right)\n",
        "events, _ = mne.events_from_annotations(raw)\n",
        "event_id = dict(T1=1, T2=2)\n",
        "eeg_picks = mne.pick_types(raw.info, eeg=True, exclude='bads')\n",
        "epochs = mne.Epochs(raw, events, event_id=event_id, tmin=1, tmax=4.1,\n",
        "                    proj=False, picks=eeg_picks, baseline=None,\n",
        "                    preload=True, verbose=False)\n",
        "\n",
        "# Prepare data\\ nX = (epochs.get_data() * 1e6).astype(np.float32)\n",
        "y = epochs.events[:, -1] - 1  # zero-index labels\n",
        "\n",
        "# Normalize each trial per channel\n",
        "X_reshaped = X.reshape(X.shape[0], X.shape[1], -1)\n",
        "X_norm = np.zeros_like(X_reshaped)\n",
        "for i in range(X.shape[0]):\n",
        "    X_norm[i] = StandardScaler().fit_transform(X_reshaped[i].T).T\n",
        "X = X_norm.reshape(X.shape)\n",
        "\n",
        "# Train/test split\n",
        "X_train, X_test, y_train, y_test = train_test_split(\n",
        "    X, y, test_size=0.2, random_state=42, stratify=y\n",
        ")\n",
        "\n",
        "# Debug prints\n",
        "print(f\"Total trials: {X.shape[0]}\")\n",
        "print(f\"Train trials: {X_train.shape[0]}, Test trials: {X_test.shape[0]}\")\n",
        "steps_per_epoch = np.ceil(X_train.shape[0] * 0.8 / 64)\n",
        "print(f\"Expected batches per epoch: {steps_per_epoch}\")\n",
        "print(\"Labels balance (train):\", Counter(y_train))\n",
        "print(\"Labels balance (test):\", Counter(y_test))\n",
        "\n",
        "# Reshape for EEGNet\n",
        "X_train = X_train.transpose(0, 1, 2)[..., np.newaxis]\n",
        "X_test = X_test.transpose(0, 1, 2)[..., np.newaxis]\n",
        "\n",
        "# EEGNet model definition\n",
        "def EEGNet(nb_classes, Chans, Samples, dropoutRate=0.5,\n",
        "           kernLength=64, F1=16, D=4, F2=64):\n",
        "    input_main = Input(shape=(Chans, Samples, 1))\n",
        "    # Block 1\n",
        "    block1 = Conv2D(F1, (1, kernLength), padding='same', use_bias=False)(input_main)\n",
        "    block1 = BatchNormalization()(block1)\n",
        "    block1 = DepthwiseConv2D((Chans, 1), use_bias=False, depth_multiplier=D)(block1)\n",
        "    block1 = BatchNormalization()(block1)\n",
        "    block1 = Activation('elu')(block1)\n",
        "    block1 = AveragePooling2D((1, 4))(block1)\n",
        "    block1 = Dropout(dropoutRate)(block1)\n",
        "\n",
        "    # Block 2\n",
        "    block2 = SeparableConv2D(F2, (1, 16), padding='same', use_bias=False)(block1)\n",
        "    block2 = BatchNormalization()(block2)\n",
        "    block2 = Activation('elu')(block2)\n",
        "    block2 = AveragePooling2D((1, 8))(block2)\n",
        "    block2 = Dropout(dropoutRate)(block2)\n",
        "\n",
        "    flatten = Flatten()(block2)\n",
        "    dense = Dense(nb_classes, activation='softmax')(flatten)\n",
        "    return Model(inputs=input_main, outputs=dense)\n",
        "\n",
        "# Instantiate and compile\n",
        "model = EEGNet(nb_classes=2, Chans=X_train.shape[1], Samples=X_train.shape[2])\n",
        "model.compile(optimizer='adam', loss='sparse_categorical_crossentropy', metrics=['accuracy'])\n",
        "model.summary()\n",
        "\n",
        "# Train\n",
        "history = model.fit(\n",
        "    X_train, y_train,\n",
        "    batch_size=64,\n",
        "    epochs=100,\n",
        "    validation_split=0.2,\n",
        "    verbose=1\n",
        ")\n",
        "\n",
        "# Evaluation\n",
        "\n",
        "y_pred = model.predict(X_test).argmax(axis=-1)\n",
        "acc = accuracy_score(y_test, y_pred)\n",
        "f1 = f1_score(y_test, y_pred)\n",
        "print(f\"Test Accuracy: {acc:.4f}, F1 Score: {f1:.4f}\")\n",
        "\n",
        "# Plot training history\n",
        "plt.figure(figsize=(12, 5))\n",
        "plt.subplot(1, 2, 1)\n",
        "plt.plot(history.history['loss'], label='Train Loss')\n",
        "plt.plot(history.history['val_loss'], label='Validation Loss')\n",
        "plt.title('Loss over epochs')\n",
        "plt.xlabel('Epochs')\n",
        "plt.ylabel('Loss')\n",
        "plt.legend()\n",
        "\n",
        "plt.subplot(1, 2, 2)\n",
        "plt.plot(history.history['accuracy'], label='Train Accuracy')\n",
        "plt.plot(history.history['val_accuracy'], label='Validation Accuracy')\n",
        "plt.title('Accuracy over epochs')\n",
        "plt.xlabel('Epochs')\n",
        "plt.ylabel('Accuracy')\n",
        "plt.legend()\n",
        "\n",
        "plt.tight_layout()\n",
        "plt.show()\n"
      ],
      "metadata": {
        "colab": {
          "base_uri": "https://localhost:8080/"
        },
        "id": "h1jHDBoUr6JX",
        "outputId": "75fd4548-2e7c-4722-883d-8a96765844f6"
      },
      "execution_count": null,
      "outputs": [
        {
          "output_type": "stream",
          "name": "stdout",
          "text": [
            "Do you want to set the path:\n",
            "    /root/mne_data\n",
            "as the default EEGBCI dataset path in the mne-python config [y]/n? y\n",
            "Attempting to create new mne-python configuration file:\n",
            "/root/.mne/mne-python.json\n",
            "Downloading EEGBCI data\n"
          ]
        },
        {
          "output_type": "stream",
          "name": "stderr",
          "text": [
            "Downloading file 'S002/S002R04.edf' from 'https://physionet.org/files/eegmmidb/1.0.0/S002/S002R04.edf' to '/root/mne_data/MNE-eegbci-data/files/eegmmidb/1.0.0'.\n",
            "Downloading file 'S002/S002R08.edf' from 'https://physionet.org/files/eegmmidb/1.0.0/S002/S002R08.edf' to '/root/mne_data/MNE-eegbci-data/files/eegmmidb/1.0.0'.\n",
            "Downloading file 'S002/S002R12.edf' from 'https://physionet.org/files/eegmmidb/1.0.0/S002/S002R12.edf' to '/root/mne_data/MNE-eegbci-data/files/eegmmidb/1.0.0'.\n"
          ]
        },
        {
          "output_type": "stream",
          "name": "stdout",
          "text": [
            "Download complete in 19s (7.3 MB)\n",
            "Downloading EEGBCI data\n"
          ]
        },
        {
          "output_type": "stream",
          "name": "stderr",
          "text": [
            "Downloading file 'S003/S003R04.edf' from 'https://physionet.org/files/eegmmidb/1.0.0/S003/S003R04.edf' to '/root/mne_data/MNE-eegbci-data/files/eegmmidb/1.0.0'.\n",
            "Downloading file 'S003/S003R08.edf' from 'https://physionet.org/files/eegmmidb/1.0.0/S003/S003R08.edf' to '/root/mne_data/MNE-eegbci-data/files/eegmmidb/1.0.0'.\n",
            "Downloading file 'S003/S003R12.edf' from 'https://physionet.org/files/eegmmidb/1.0.0/S003/S003R12.edf' to '/root/mne_data/MNE-eegbci-data/files/eegmmidb/1.0.0'.\n"
          ]
        },
        {
          "output_type": "stream",
          "name": "stdout",
          "text": [
            "Download complete in 20s (7.4 MB)\n",
            "Downloading EEGBCI data\n"
          ]
        },
        {
          "output_type": "stream",
          "name": "stderr",
          "text": [
            "Downloading file 'S004/S004R04.edf' from 'https://physionet.org/files/eegmmidb/1.0.0/S004/S004R04.edf' to '/root/mne_data/MNE-eegbci-data/files/eegmmidb/1.0.0'.\n",
            "Downloading file 'S004/S004R08.edf' from 'https://physionet.org/files/eegmmidb/1.0.0/S004/S004R08.edf' to '/root/mne_data/MNE-eegbci-data/files/eegmmidb/1.0.0'.\n",
            "Downloading file 'S004/S004R12.edf' from 'https://physionet.org/files/eegmmidb/1.0.0/S004/S004R12.edf' to '/root/mne_data/MNE-eegbci-data/files/eegmmidb/1.0.0'.\n"
          ]
        },
        {
          "output_type": "stream",
          "name": "stdout",
          "text": [
            "Download complete in 19s (7.3 MB)\n",
            "Downloading EEGBCI data\n"
          ]
        },
        {
          "output_type": "stream",
          "name": "stderr",
          "text": [
            "Downloading file 'S005/S005R04.edf' from 'https://physionet.org/files/eegmmidb/1.0.0/S005/S005R04.edf' to '/root/mne_data/MNE-eegbci-data/files/eegmmidb/1.0.0'.\n",
            "Downloading file 'S005/S005R08.edf' from 'https://physionet.org/files/eegmmidb/1.0.0/S005/S005R08.edf' to '/root/mne_data/MNE-eegbci-data/files/eegmmidb/1.0.0'.\n",
            "Downloading file 'S005/S005R12.edf' from 'https://physionet.org/files/eegmmidb/1.0.0/S005/S005R12.edf' to '/root/mne_data/MNE-eegbci-data/files/eegmmidb/1.0.0'.\n"
          ]
        },
        {
          "output_type": "stream",
          "name": "stdout",
          "text": [
            "Download complete in 18s (7.3 MB)\n",
            "Downloading EEGBCI data\n"
          ]
        },
        {
          "output_type": "stream",
          "name": "stderr",
          "text": [
            "Downloading file 'S006/S006R04.edf' from 'https://physionet.org/files/eegmmidb/1.0.0/S006/S006R04.edf' to '/root/mne_data/MNE-eegbci-data/files/eegmmidb/1.0.0'.\n",
            "Downloading file 'S006/S006R08.edf' from 'https://physionet.org/files/eegmmidb/1.0.0/S006/S006R08.edf' to '/root/mne_data/MNE-eegbci-data/files/eegmmidb/1.0.0'.\n",
            "Downloading file 'S006/S006R12.edf' from 'https://physionet.org/files/eegmmidb/1.0.0/S006/S006R12.edf' to '/root/mne_data/MNE-eegbci-data/files/eegmmidb/1.0.0'.\n"
          ]
        },
        {
          "output_type": "stream",
          "name": "stdout",
          "text": [
            "Download complete in 17s (7.3 MB)\n",
            "Downloading EEGBCI data\n"
          ]
        },
        {
          "output_type": "stream",
          "name": "stderr",
          "text": [
            "Downloading file 'S007/S007R04.edf' from 'https://physionet.org/files/eegmmidb/1.0.0/S007/S007R04.edf' to '/root/mne_data/MNE-eegbci-data/files/eegmmidb/1.0.0'.\n",
            "Downloading file 'S007/S007R08.edf' from 'https://physionet.org/files/eegmmidb/1.0.0/S007/S007R08.edf' to '/root/mne_data/MNE-eegbci-data/files/eegmmidb/1.0.0'.\n",
            "Downloading file 'S007/S007R12.edf' from 'https://physionet.org/files/eegmmidb/1.0.0/S007/S007R12.edf' to '/root/mne_data/MNE-eegbci-data/files/eegmmidb/1.0.0'.\n"
          ]
        },
        {
          "output_type": "stream",
          "name": "stdout",
          "text": [
            "Download complete in 18s (7.4 MB)\n",
            "Downloading EEGBCI data\n"
          ]
        },
        {
          "output_type": "stream",
          "name": "stderr",
          "text": [
            "Downloading file 'S008/S008R04.edf' from 'https://physionet.org/files/eegmmidb/1.0.0/S008/S008R04.edf' to '/root/mne_data/MNE-eegbci-data/files/eegmmidb/1.0.0'.\n",
            "Downloading file 'S008/S008R08.edf' from 'https://physionet.org/files/eegmmidb/1.0.0/S008/S008R08.edf' to '/root/mne_data/MNE-eegbci-data/files/eegmmidb/1.0.0'.\n",
            "Downloading file 'S008/S008R12.edf' from 'https://physionet.org/files/eegmmidb/1.0.0/S008/S008R12.edf' to '/root/mne_data/MNE-eegbci-data/files/eegmmidb/1.0.0'.\n"
          ]
        },
        {
          "output_type": "stream",
          "name": "stdout",
          "text": [
            "Download complete in 17s (7.3 MB)\n",
            "Downloading EEGBCI data\n"
          ]
        },
        {
          "output_type": "stream",
          "name": "stderr",
          "text": [
            "Downloading file 'S009/S009R04.edf' from 'https://physionet.org/files/eegmmidb/1.0.0/S009/S009R04.edf' to '/root/mne_data/MNE-eegbci-data/files/eegmmidb/1.0.0'.\n",
            "Downloading file 'S009/S009R08.edf' from 'https://physionet.org/files/eegmmidb/1.0.0/S009/S009R08.edf' to '/root/mne_data/MNE-eegbci-data/files/eegmmidb/1.0.0'.\n",
            "Downloading file 'S009/S009R12.edf' from 'https://physionet.org/files/eegmmidb/1.0.0/S009/S009R12.edf' to '/root/mne_data/MNE-eegbci-data/files/eegmmidb/1.0.0'.\n"
          ]
        },
        {
          "output_type": "stream",
          "name": "stdout",
          "text": [
            "Download complete in 17s (7.3 MB)\n",
            "Downloading EEGBCI data\n"
          ]
        },
        {
          "output_type": "stream",
          "name": "stderr",
          "text": [
            "Downloading file 'S010/S010R04.edf' from 'https://physionet.org/files/eegmmidb/1.0.0/S010/S010R04.edf' to '/root/mne_data/MNE-eegbci-data/files/eegmmidb/1.0.0'.\n",
            "Downloading file 'S010/S010R08.edf' from 'https://physionet.org/files/eegmmidb/1.0.0/S010/S010R08.edf' to '/root/mne_data/MNE-eegbci-data/files/eegmmidb/1.0.0'.\n",
            "Downloading file 'S010/S010R12.edf' from 'https://physionet.org/files/eegmmidb/1.0.0/S010/S010R12.edf' to '/root/mne_data/MNE-eegbci-data/files/eegmmidb/1.0.0'.\n"
          ]
        },
        {
          "output_type": "stream",
          "name": "stdout",
          "text": [
            "Download complete in 17s (7.3 MB)\n",
            "Downloading EEGBCI data\n"
          ]
        },
        {
          "output_type": "stream",
          "name": "stderr",
          "text": [
            "Downloading file 'S011/S011R04.edf' from 'https://physionet.org/files/eegmmidb/1.0.0/S011/S011R04.edf' to '/root/mne_data/MNE-eegbci-data/files/eegmmidb/1.0.0'.\n",
            "Downloading file 'S011/S011R08.edf' from 'https://physionet.org/files/eegmmidb/1.0.0/S011/S011R08.edf' to '/root/mne_data/MNE-eegbci-data/files/eegmmidb/1.0.0'.\n",
            "Downloading file 'S011/S011R12.edf' from 'https://physionet.org/files/eegmmidb/1.0.0/S011/S011R12.edf' to '/root/mne_data/MNE-eegbci-data/files/eegmmidb/1.0.0'.\n"
          ]
        },
        {
          "output_type": "stream",
          "name": "stdout",
          "text": [
            "Download complete in 17s (7.3 MB)\n",
            "Downloading EEGBCI data\n"
          ]
        },
        {
          "output_type": "stream",
          "name": "stderr",
          "text": [
            "Downloading file 'S012/S012R04.edf' from 'https://physionet.org/files/eegmmidb/1.0.0/S012/S012R04.edf' to '/root/mne_data/MNE-eegbci-data/files/eegmmidb/1.0.0'.\n",
            "Downloading file 'S012/S012R08.edf' from 'https://physionet.org/files/eegmmidb/1.0.0/S012/S012R08.edf' to '/root/mne_data/MNE-eegbci-data/files/eegmmidb/1.0.0'.\n",
            "Downloading file 'S012/S012R12.edf' from 'https://physionet.org/files/eegmmidb/1.0.0/S012/S012R12.edf' to '/root/mne_data/MNE-eegbci-data/files/eegmmidb/1.0.0'.\n"
          ]
        },
        {
          "output_type": "stream",
          "name": "stdout",
          "text": [
            "Download complete in 17s (7.3 MB)\n",
            "Downloading EEGBCI data\n"
          ]
        },
        {
          "output_type": "stream",
          "name": "stderr",
          "text": [
            "Downloading file 'S013/S013R04.edf' from 'https://physionet.org/files/eegmmidb/1.0.0/S013/S013R04.edf' to '/root/mne_data/MNE-eegbci-data/files/eegmmidb/1.0.0'.\n",
            "Downloading file 'S013/S013R08.edf' from 'https://physionet.org/files/eegmmidb/1.0.0/S013/S013R08.edf' to '/root/mne_data/MNE-eegbci-data/files/eegmmidb/1.0.0'.\n",
            "Downloading file 'S013/S013R12.edf' from 'https://physionet.org/files/eegmmidb/1.0.0/S013/S013R12.edf' to '/root/mne_data/MNE-eegbci-data/files/eegmmidb/1.0.0'.\n"
          ]
        },
        {
          "output_type": "stream",
          "name": "stdout",
          "text": [
            "Download complete in 19s (7.3 MB)\n",
            "Downloading EEGBCI data\n"
          ]
        },
        {
          "output_type": "stream",
          "name": "stderr",
          "text": [
            "Downloading file 'S014/S014R04.edf' from 'https://physionet.org/files/eegmmidb/1.0.0/S014/S014R04.edf' to '/root/mne_data/MNE-eegbci-data/files/eegmmidb/1.0.0'.\n",
            "Downloading file 'S014/S014R08.edf' from 'https://physionet.org/files/eegmmidb/1.0.0/S014/S014R08.edf' to '/root/mne_data/MNE-eegbci-data/files/eegmmidb/1.0.0'.\n",
            "Downloading file 'S014/S014R12.edf' from 'https://physionet.org/files/eegmmidb/1.0.0/S014/S014R12.edf' to '/root/mne_data/MNE-eegbci-data/files/eegmmidb/1.0.0'.\n"
          ]
        },
        {
          "output_type": "stream",
          "name": "stdout",
          "text": [
            "Download complete in 19s (7.3 MB)\n",
            "Downloading EEGBCI data\n"
          ]
        },
        {
          "output_type": "stream",
          "name": "stderr",
          "text": [
            "Downloading file 'S015/S015R04.edf' from 'https://physionet.org/files/eegmmidb/1.0.0/S015/S015R04.edf' to '/root/mne_data/MNE-eegbci-data/files/eegmmidb/1.0.0'.\n",
            "Downloading file 'S015/S015R08.edf' from 'https://physionet.org/files/eegmmidb/1.0.0/S015/S015R08.edf' to '/root/mne_data/MNE-eegbci-data/files/eegmmidb/1.0.0'.\n",
            "Downloading file 'S015/S015R12.edf' from 'https://physionet.org/files/eegmmidb/1.0.0/S015/S015R12.edf' to '/root/mne_data/MNE-eegbci-data/files/eegmmidb/1.0.0'.\n"
          ]
        },
        {
          "output_type": "stream",
          "name": "stdout",
          "text": [
            "Download complete in 21s (7.3 MB)\n",
            "Downloading EEGBCI data\n"
          ]
        },
        {
          "output_type": "stream",
          "name": "stderr",
          "text": [
            "Downloading file 'S016/S016R04.edf' from 'https://physionet.org/files/eegmmidb/1.0.0/S016/S016R04.edf' to '/root/mne_data/MNE-eegbci-data/files/eegmmidb/1.0.0'.\n",
            "Downloading file 'S016/S016R08.edf' from 'https://physionet.org/files/eegmmidb/1.0.0/S016/S016R08.edf' to '/root/mne_data/MNE-eegbci-data/files/eegmmidb/1.0.0'.\n",
            "Downloading file 'S016/S016R12.edf' from 'https://physionet.org/files/eegmmidb/1.0.0/S016/S016R12.edf' to '/root/mne_data/MNE-eegbci-data/files/eegmmidb/1.0.0'.\n"
          ]
        },
        {
          "output_type": "stream",
          "name": "stdout",
          "text": [
            "Download complete in 22s (7.3 MB)\n",
            "Downloading EEGBCI data\n"
          ]
        },
        {
          "output_type": "stream",
          "name": "stderr",
          "text": [
            "Downloading file 'S017/S017R04.edf' from 'https://physionet.org/files/eegmmidb/1.0.0/S017/S017R04.edf' to '/root/mne_data/MNE-eegbci-data/files/eegmmidb/1.0.0'.\n",
            "Downloading file 'S017/S017R08.edf' from 'https://physionet.org/files/eegmmidb/1.0.0/S017/S017R08.edf' to '/root/mne_data/MNE-eegbci-data/files/eegmmidb/1.0.0'.\n",
            "Downloading file 'S017/S017R12.edf' from 'https://physionet.org/files/eegmmidb/1.0.0/S017/S017R12.edf' to '/root/mne_data/MNE-eegbci-data/files/eegmmidb/1.0.0'.\n"
          ]
        },
        {
          "output_type": "stream",
          "name": "stdout",
          "text": [
            "Download complete in 23s (7.3 MB)\n",
            "Downloading EEGBCI data\n"
          ]
        },
        {
          "output_type": "stream",
          "name": "stderr",
          "text": [
            "Downloading file 'S018/S018R04.edf' from 'https://physionet.org/files/eegmmidb/1.0.0/S018/S018R04.edf' to '/root/mne_data/MNE-eegbci-data/files/eegmmidb/1.0.0'.\n",
            "Downloading file 'S018/S018R08.edf' from 'https://physionet.org/files/eegmmidb/1.0.0/S018/S018R08.edf' to '/root/mne_data/MNE-eegbci-data/files/eegmmidb/1.0.0'.\n",
            "Downloading file 'S018/S018R12.edf' from 'https://physionet.org/files/eegmmidb/1.0.0/S018/S018R12.edf' to '/root/mne_data/MNE-eegbci-data/files/eegmmidb/1.0.0'.\n"
          ]
        },
        {
          "output_type": "stream",
          "name": "stdout",
          "text": [
            "Download complete in 24s (7.3 MB)\n",
            "Downloading EEGBCI data\n"
          ]
        },
        {
          "output_type": "stream",
          "name": "stderr",
          "text": [
            "Downloading file 'S019/S019R04.edf' from 'https://physionet.org/files/eegmmidb/1.0.0/S019/S019R04.edf' to '/root/mne_data/MNE-eegbci-data/files/eegmmidb/1.0.0'.\n",
            "Downloading file 'S019/S019R08.edf' from 'https://physionet.org/files/eegmmidb/1.0.0/S019/S019R08.edf' to '/root/mne_data/MNE-eegbci-data/files/eegmmidb/1.0.0'.\n",
            "Downloading file 'S019/S019R12.edf' from 'https://physionet.org/files/eegmmidb/1.0.0/S019/S019R12.edf' to '/root/mne_data/MNE-eegbci-data/files/eegmmidb/1.0.0'.\n"
          ]
        },
        {
          "output_type": "stream",
          "name": "stdout",
          "text": [
            "Download complete in 23s (7.3 MB)\n",
            "Downloading EEGBCI data\n"
          ]
        },
        {
          "output_type": "stream",
          "name": "stderr",
          "text": [
            "Downloading file 'S020/S020R04.edf' from 'https://physionet.org/files/eegmmidb/1.0.0/S020/S020R04.edf' to '/root/mne_data/MNE-eegbci-data/files/eegmmidb/1.0.0'.\n",
            "Downloading file 'S020/S020R08.edf' from 'https://physionet.org/files/eegmmidb/1.0.0/S020/S020R08.edf' to '/root/mne_data/MNE-eegbci-data/files/eegmmidb/1.0.0'.\n",
            "Downloading file 'S020/S020R12.edf' from 'https://physionet.org/files/eegmmidb/1.0.0/S020/S020R12.edf' to '/root/mne_data/MNE-eegbci-data/files/eegmmidb/1.0.0'.\n"
          ]
        },
        {
          "output_type": "stream",
          "name": "stdout",
          "text": [
            "Download complete in 22s (7.3 MB)\n",
            "Downloading EEGBCI data\n"
          ]
        },
        {
          "output_type": "stream",
          "name": "stderr",
          "text": [
            "Downloading file 'S021/S021R04.edf' from 'https://physionet.org/files/eegmmidb/1.0.0/S021/S021R04.edf' to '/root/mne_data/MNE-eegbci-data/files/eegmmidb/1.0.0'.\n",
            "Downloading file 'S021/S021R08.edf' from 'https://physionet.org/files/eegmmidb/1.0.0/S021/S021R08.edf' to '/root/mne_data/MNE-eegbci-data/files/eegmmidb/1.0.0'.\n",
            "Downloading file 'S021/S021R12.edf' from 'https://physionet.org/files/eegmmidb/1.0.0/S021/S021R12.edf' to '/root/mne_data/MNE-eegbci-data/files/eegmmidb/1.0.0'.\n"
          ]
        },
        {
          "output_type": "stream",
          "name": "stdout",
          "text": [
            "Download complete in 20s (7.4 MB)\n",
            "Downloading EEGBCI data\n"
          ]
        },
        {
          "output_type": "stream",
          "name": "stderr",
          "text": [
            "Downloading file 'S022/S022R04.edf' from 'https://physionet.org/files/eegmmidb/1.0.0/S022/S022R04.edf' to '/root/mne_data/MNE-eegbci-data/files/eegmmidb/1.0.0'.\n",
            "Downloading file 'S022/S022R08.edf' from 'https://physionet.org/files/eegmmidb/1.0.0/S022/S022R08.edf' to '/root/mne_data/MNE-eegbci-data/files/eegmmidb/1.0.0'.\n",
            "Downloading file 'S022/S022R12.edf' from 'https://physionet.org/files/eegmmidb/1.0.0/S022/S022R12.edf' to '/root/mne_data/MNE-eegbci-data/files/eegmmidb/1.0.0'.\n"
          ]
        },
        {
          "output_type": "stream",
          "name": "stdout",
          "text": [
            "Download complete in 21s (7.4 MB)\n",
            "Downloading EEGBCI data\n"
          ]
        },
        {
          "output_type": "stream",
          "name": "stderr",
          "text": [
            "Downloading file 'S023/S023R04.edf' from 'https://physionet.org/files/eegmmidb/1.0.0/S023/S023R04.edf' to '/root/mne_data/MNE-eegbci-data/files/eegmmidb/1.0.0'.\n",
            "Downloading file 'S023/S023R08.edf' from 'https://physionet.org/files/eegmmidb/1.0.0/S023/S023R08.edf' to '/root/mne_data/MNE-eegbci-data/files/eegmmidb/1.0.0'.\n",
            "Downloading file 'S023/S023R12.edf' from 'https://physionet.org/files/eegmmidb/1.0.0/S023/S023R12.edf' to '/root/mne_data/MNE-eegbci-data/files/eegmmidb/1.0.0'.\n"
          ]
        },
        {
          "output_type": "stream",
          "name": "stdout",
          "text": [
            "Download complete in 20s (7.3 MB)\n",
            "Downloading EEGBCI data\n"
          ]
        },
        {
          "output_type": "stream",
          "name": "stderr",
          "text": [
            "Downloading file 'S024/S024R04.edf' from 'https://physionet.org/files/eegmmidb/1.0.0/S024/S024R04.edf' to '/root/mne_data/MNE-eegbci-data/files/eegmmidb/1.0.0'.\n",
            "Downloading file 'S024/S024R08.edf' from 'https://physionet.org/files/eegmmidb/1.0.0/S024/S024R08.edf' to '/root/mne_data/MNE-eegbci-data/files/eegmmidb/1.0.0'.\n",
            "Downloading file 'S024/S024R12.edf' from 'https://physionet.org/files/eegmmidb/1.0.0/S024/S024R12.edf' to '/root/mne_data/MNE-eegbci-data/files/eegmmidb/1.0.0'.\n"
          ]
        },
        {
          "output_type": "stream",
          "name": "stdout",
          "text": [
            "Download complete in 18s (7.3 MB)\n",
            "Downloading EEGBCI data\n"
          ]
        },
        {
          "output_type": "stream",
          "name": "stderr",
          "text": [
            "Downloading file 'S025/S025R04.edf' from 'https://physionet.org/files/eegmmidb/1.0.0/S025/S025R04.edf' to '/root/mne_data/MNE-eegbci-data/files/eegmmidb/1.0.0'.\n",
            "Downloading file 'S025/S025R08.edf' from 'https://physionet.org/files/eegmmidb/1.0.0/S025/S025R08.edf' to '/root/mne_data/MNE-eegbci-data/files/eegmmidb/1.0.0'.\n",
            "Downloading file 'S025/S025R12.edf' from 'https://physionet.org/files/eegmmidb/1.0.0/S025/S025R12.edf' to '/root/mne_data/MNE-eegbci-data/files/eegmmidb/1.0.0'.\n"
          ]
        },
        {
          "output_type": "stream",
          "name": "stdout",
          "text": [
            "Download complete in 18s (7.3 MB)\n",
            "Downloading EEGBCI data\n"
          ]
        },
        {
          "output_type": "stream",
          "name": "stderr",
          "text": [
            "Downloading file 'S026/S026R04.edf' from 'https://physionet.org/files/eegmmidb/1.0.0/S026/S026R04.edf' to '/root/mne_data/MNE-eegbci-data/files/eegmmidb/1.0.0'.\n",
            "Downloading file 'S026/S026R08.edf' from 'https://physionet.org/files/eegmmidb/1.0.0/S026/S026R08.edf' to '/root/mne_data/MNE-eegbci-data/files/eegmmidb/1.0.0'.\n",
            "Downloading file 'S026/S026R12.edf' from 'https://physionet.org/files/eegmmidb/1.0.0/S026/S026R12.edf' to '/root/mne_data/MNE-eegbci-data/files/eegmmidb/1.0.0'.\n"
          ]
        },
        {
          "output_type": "stream",
          "name": "stdout",
          "text": [
            "Download complete in 19s (7.3 MB)\n",
            "Downloading EEGBCI data\n"
          ]
        },
        {
          "output_type": "stream",
          "name": "stderr",
          "text": [
            "Downloading file 'S027/S027R04.edf' from 'https://physionet.org/files/eegmmidb/1.0.0/S027/S027R04.edf' to '/root/mne_data/MNE-eegbci-data/files/eegmmidb/1.0.0'.\n",
            "Downloading file 'S027/S027R08.edf' from 'https://physionet.org/files/eegmmidb/1.0.0/S027/S027R08.edf' to '/root/mne_data/MNE-eegbci-data/files/eegmmidb/1.0.0'.\n",
            "Downloading file 'S027/S027R12.edf' from 'https://physionet.org/files/eegmmidb/1.0.0/S027/S027R12.edf' to '/root/mne_data/MNE-eegbci-data/files/eegmmidb/1.0.0'.\n"
          ]
        },
        {
          "output_type": "stream",
          "name": "stdout",
          "text": [
            "Download complete in 19s (7.3 MB)\n",
            "Downloading EEGBCI data\n"
          ]
        },
        {
          "output_type": "stream",
          "name": "stderr",
          "text": [
            "Downloading file 'S028/S028R04.edf' from 'https://physionet.org/files/eegmmidb/1.0.0/S028/S028R04.edf' to '/root/mne_data/MNE-eegbci-data/files/eegmmidb/1.0.0'.\n",
            "Downloading file 'S028/S028R08.edf' from 'https://physionet.org/files/eegmmidb/1.0.0/S028/S028R08.edf' to '/root/mne_data/MNE-eegbci-data/files/eegmmidb/1.0.0'.\n",
            "Downloading file 'S028/S028R12.edf' from 'https://physionet.org/files/eegmmidb/1.0.0/S028/S028R12.edf' to '/root/mne_data/MNE-eegbci-data/files/eegmmidb/1.0.0'.\n"
          ]
        },
        {
          "output_type": "stream",
          "name": "stdout",
          "text": [
            "Download complete in 18s (7.3 MB)\n",
            "Downloading EEGBCI data\n"
          ]
        },
        {
          "output_type": "stream",
          "name": "stderr",
          "text": [
            "Downloading file 'S029/S029R04.edf' from 'https://physionet.org/files/eegmmidb/1.0.0/S029/S029R04.edf' to '/root/mne_data/MNE-eegbci-data/files/eegmmidb/1.0.0'.\n",
            "Downloading file 'S029/S029R08.edf' from 'https://physionet.org/files/eegmmidb/1.0.0/S029/S029R08.edf' to '/root/mne_data/MNE-eegbci-data/files/eegmmidb/1.0.0'.\n",
            "Downloading file 'S029/S029R12.edf' from 'https://physionet.org/files/eegmmidb/1.0.0/S029/S029R12.edf' to '/root/mne_data/MNE-eegbci-data/files/eegmmidb/1.0.0'.\n"
          ]
        },
        {
          "output_type": "stream",
          "name": "stdout",
          "text": [
            "Download complete in 18s (7.4 MB)\n",
            "Downloading EEGBCI data\n"
          ]
        },
        {
          "output_type": "stream",
          "name": "stderr",
          "text": [
            "Downloading file 'S030/S030R04.edf' from 'https://physionet.org/files/eegmmidb/1.0.0/S030/S030R04.edf' to '/root/mne_data/MNE-eegbci-data/files/eegmmidb/1.0.0'.\n",
            "Downloading file 'S030/S030R08.edf' from 'https://physionet.org/files/eegmmidb/1.0.0/S030/S030R08.edf' to '/root/mne_data/MNE-eegbci-data/files/eegmmidb/1.0.0'.\n",
            "Downloading file 'S030/S030R12.edf' from 'https://physionet.org/files/eegmmidb/1.0.0/S030/S030R12.edf' to '/root/mne_data/MNE-eegbci-data/files/eegmmidb/1.0.0'.\n"
          ]
        },
        {
          "output_type": "stream",
          "name": "stdout",
          "text": [
            "Download complete in 20s (7.4 MB)\n",
            "Downloading EEGBCI data\n"
          ]
        },
        {
          "output_type": "stream",
          "name": "stderr",
          "text": [
            "Downloading file 'S031/S031R04.edf' from 'https://physionet.org/files/eegmmidb/1.0.0/S031/S031R04.edf' to '/root/mne_data/MNE-eegbci-data/files/eegmmidb/1.0.0'.\n",
            "Downloading file 'S031/S031R08.edf' from 'https://physionet.org/files/eegmmidb/1.0.0/S031/S031R08.edf' to '/root/mne_data/MNE-eegbci-data/files/eegmmidb/1.0.0'.\n",
            "Downloading file 'S031/S031R12.edf' from 'https://physionet.org/files/eegmmidb/1.0.0/S031/S031R12.edf' to '/root/mne_data/MNE-eegbci-data/files/eegmmidb/1.0.0'.\n"
          ]
        },
        {
          "output_type": "stream",
          "name": "stdout",
          "text": [
            "Download complete in 19s (7.3 MB)\n",
            "Downloading EEGBCI data\n"
          ]
        },
        {
          "output_type": "stream",
          "name": "stderr",
          "text": [
            "Downloading file 'S032/S032R04.edf' from 'https://physionet.org/files/eegmmidb/1.0.0/S032/S032R04.edf' to '/root/mne_data/MNE-eegbci-data/files/eegmmidb/1.0.0'.\n",
            "Downloading file 'S032/S032R08.edf' from 'https://physionet.org/files/eegmmidb/1.0.0/S032/S032R08.edf' to '/root/mne_data/MNE-eegbci-data/files/eegmmidb/1.0.0'.\n",
            "Downloading file 'S032/S032R12.edf' from 'https://physionet.org/files/eegmmidb/1.0.0/S032/S032R12.edf' to '/root/mne_data/MNE-eegbci-data/files/eegmmidb/1.0.0'.\n"
          ]
        },
        {
          "output_type": "stream",
          "name": "stdout",
          "text": [
            "Download complete in 19s (7.4 MB)\n",
            "Downloading EEGBCI data\n"
          ]
        },
        {
          "output_type": "stream",
          "name": "stderr",
          "text": [
            "Downloading file 'S033/S033R04.edf' from 'https://physionet.org/files/eegmmidb/1.0.0/S033/S033R04.edf' to '/root/mne_data/MNE-eegbci-data/files/eegmmidb/1.0.0'.\n",
            "Downloading file 'S033/S033R08.edf' from 'https://physionet.org/files/eegmmidb/1.0.0/S033/S033R08.edf' to '/root/mne_data/MNE-eegbci-data/files/eegmmidb/1.0.0'.\n",
            "Downloading file 'S033/S033R12.edf' from 'https://physionet.org/files/eegmmidb/1.0.0/S033/S033R12.edf' to '/root/mne_data/MNE-eegbci-data/files/eegmmidb/1.0.0'.\n"
          ]
        },
        {
          "output_type": "stream",
          "name": "stdout",
          "text": [
            "Download complete in 18s (7.3 MB)\n",
            "Downloading EEGBCI data\n"
          ]
        },
        {
          "output_type": "stream",
          "name": "stderr",
          "text": [
            "Downloading file 'S034/S034R04.edf' from 'https://physionet.org/files/eegmmidb/1.0.0/S034/S034R04.edf' to '/root/mne_data/MNE-eegbci-data/files/eegmmidb/1.0.0'.\n",
            "Downloading file 'S034/S034R08.edf' from 'https://physionet.org/files/eegmmidb/1.0.0/S034/S034R08.edf' to '/root/mne_data/MNE-eegbci-data/files/eegmmidb/1.0.0'.\n",
            "Downloading file 'S034/S034R12.edf' from 'https://physionet.org/files/eegmmidb/1.0.0/S034/S034R12.edf' to '/root/mne_data/MNE-eegbci-data/files/eegmmidb/1.0.0'.\n"
          ]
        },
        {
          "output_type": "stream",
          "name": "stdout",
          "text": [
            "Download complete in 17s (7.3 MB)\n",
            "Downloading EEGBCI data\n"
          ]
        },
        {
          "output_type": "stream",
          "name": "stderr",
          "text": [
            "Downloading file 'S035/S035R04.edf' from 'https://physionet.org/files/eegmmidb/1.0.0/S035/S035R04.edf' to '/root/mne_data/MNE-eegbci-data/files/eegmmidb/1.0.0'.\n",
            "Downloading file 'S035/S035R08.edf' from 'https://physionet.org/files/eegmmidb/1.0.0/S035/S035R08.edf' to '/root/mne_data/MNE-eegbci-data/files/eegmmidb/1.0.0'.\n",
            "Downloading file 'S035/S035R12.edf' from 'https://physionet.org/files/eegmmidb/1.0.0/S035/S035R12.edf' to '/root/mne_data/MNE-eegbci-data/files/eegmmidb/1.0.0'.\n"
          ]
        },
        {
          "output_type": "stream",
          "name": "stdout",
          "text": [
            "Download complete in 18s (7.4 MB)\n",
            "Downloading EEGBCI data\n"
          ]
        },
        {
          "output_type": "stream",
          "name": "stderr",
          "text": [
            "Downloading file 'S036/S036R04.edf' from 'https://physionet.org/files/eegmmidb/1.0.0/S036/S036R04.edf' to '/root/mne_data/MNE-eegbci-data/files/eegmmidb/1.0.0'.\n",
            "Downloading file 'S036/S036R08.edf' from 'https://physionet.org/files/eegmmidb/1.0.0/S036/S036R08.edf' to '/root/mne_data/MNE-eegbci-data/files/eegmmidb/1.0.0'.\n",
            "Downloading file 'S036/S036R12.edf' from 'https://physionet.org/files/eegmmidb/1.0.0/S036/S036R12.edf' to '/root/mne_data/MNE-eegbci-data/files/eegmmidb/1.0.0'.\n"
          ]
        },
        {
          "output_type": "stream",
          "name": "stdout",
          "text": [
            "Download complete in 19s (7.3 MB)\n",
            "Downloading EEGBCI data\n"
          ]
        },
        {
          "output_type": "stream",
          "name": "stderr",
          "text": [
            "Downloading file 'S037/S037R04.edf' from 'https://physionet.org/files/eegmmidb/1.0.0/S037/S037R04.edf' to '/root/mne_data/MNE-eegbci-data/files/eegmmidb/1.0.0'.\n",
            "Downloading file 'S037/S037R08.edf' from 'https://physionet.org/files/eegmmidb/1.0.0/S037/S037R08.edf' to '/root/mne_data/MNE-eegbci-data/files/eegmmidb/1.0.0'.\n",
            "Downloading file 'S037/S037R12.edf' from 'https://physionet.org/files/eegmmidb/1.0.0/S037/S037R12.edf' to '/root/mne_data/MNE-eegbci-data/files/eegmmidb/1.0.0'.\n"
          ]
        },
        {
          "output_type": "stream",
          "name": "stdout",
          "text": [
            "Download complete in 18s (7.3 MB)\n",
            "Downloading EEGBCI data\n"
          ]
        },
        {
          "output_type": "stream",
          "name": "stderr",
          "text": [
            "Downloading file 'S038/S038R04.edf' from 'https://physionet.org/files/eegmmidb/1.0.0/S038/S038R04.edf' to '/root/mne_data/MNE-eegbci-data/files/eegmmidb/1.0.0'.\n",
            "Downloading file 'S038/S038R08.edf' from 'https://physionet.org/files/eegmmidb/1.0.0/S038/S038R08.edf' to '/root/mne_data/MNE-eegbci-data/files/eegmmidb/1.0.0'.\n",
            "Downloading file 'S038/S038R12.edf' from 'https://physionet.org/files/eegmmidb/1.0.0/S038/S038R12.edf' to '/root/mne_data/MNE-eegbci-data/files/eegmmidb/1.0.0'.\n"
          ]
        },
        {
          "output_type": "stream",
          "name": "stdout",
          "text": [
            "Download complete in 19s (7.3 MB)\n",
            "Downloading EEGBCI data\n"
          ]
        },
        {
          "output_type": "stream",
          "name": "stderr",
          "text": [
            "Downloading file 'S039/S039R04.edf' from 'https://physionet.org/files/eegmmidb/1.0.0/S039/S039R04.edf' to '/root/mne_data/MNE-eegbci-data/files/eegmmidb/1.0.0'.\n",
            "Downloading file 'S039/S039R08.edf' from 'https://physionet.org/files/eegmmidb/1.0.0/S039/S039R08.edf' to '/root/mne_data/MNE-eegbci-data/files/eegmmidb/1.0.0'.\n",
            "Downloading file 'S039/S039R12.edf' from 'https://physionet.org/files/eegmmidb/1.0.0/S039/S039R12.edf' to '/root/mne_data/MNE-eegbci-data/files/eegmmidb/1.0.0'.\n"
          ]
        },
        {
          "output_type": "stream",
          "name": "stdout",
          "text": [
            "Download complete in 20s (7.3 MB)\n",
            "Downloading EEGBCI data\n"
          ]
        },
        {
          "output_type": "stream",
          "name": "stderr",
          "text": [
            "Downloading file 'S040/S040R04.edf' from 'https://physionet.org/files/eegmmidb/1.0.0/S040/S040R04.edf' to '/root/mne_data/MNE-eegbci-data/files/eegmmidb/1.0.0'.\n",
            "Downloading file 'S040/S040R08.edf' from 'https://physionet.org/files/eegmmidb/1.0.0/S040/S040R08.edf' to '/root/mne_data/MNE-eegbci-data/files/eegmmidb/1.0.0'.\n",
            "Downloading file 'S040/S040R12.edf' from 'https://physionet.org/files/eegmmidb/1.0.0/S040/S040R12.edf' to '/root/mne_data/MNE-eegbci-data/files/eegmmidb/1.0.0'.\n"
          ]
        },
        {
          "output_type": "stream",
          "name": "stdout",
          "text": [
            "Download complete in 20s (7.3 MB)\n",
            "Downloading EEGBCI data\n"
          ]
        },
        {
          "output_type": "stream",
          "name": "stderr",
          "text": [
            "Downloading file 'S041/S041R04.edf' from 'https://physionet.org/files/eegmmidb/1.0.0/S041/S041R04.edf' to '/root/mne_data/MNE-eegbci-data/files/eegmmidb/1.0.0'.\n",
            "Downloading file 'S041/S041R08.edf' from 'https://physionet.org/files/eegmmidb/1.0.0/S041/S041R08.edf' to '/root/mne_data/MNE-eegbci-data/files/eegmmidb/1.0.0'.\n",
            "Downloading file 'S041/S041R12.edf' from 'https://physionet.org/files/eegmmidb/1.0.0/S041/S041R12.edf' to '/root/mne_data/MNE-eegbci-data/files/eegmmidb/1.0.0'.\n"
          ]
        },
        {
          "output_type": "stream",
          "name": "stdout",
          "text": [
            "Download complete in 20s (7.4 MB)\n",
            "Downloading EEGBCI data\n"
          ]
        },
        {
          "output_type": "stream",
          "name": "stderr",
          "text": [
            "Downloading file 'S042/S042R04.edf' from 'https://physionet.org/files/eegmmidb/1.0.0/S042/S042R04.edf' to '/root/mne_data/MNE-eegbci-data/files/eegmmidb/1.0.0'.\n",
            "Downloading file 'S042/S042R08.edf' from 'https://physionet.org/files/eegmmidb/1.0.0/S042/S042R08.edf' to '/root/mne_data/MNE-eegbci-data/files/eegmmidb/1.0.0'.\n",
            "Downloading file 'S042/S042R12.edf' from 'https://physionet.org/files/eegmmidb/1.0.0/S042/S042R12.edf' to '/root/mne_data/MNE-eegbci-data/files/eegmmidb/1.0.0'.\n"
          ]
        },
        {
          "output_type": "stream",
          "name": "stdout",
          "text": [
            "Download complete in 22s (7.3 MB)\n",
            "Downloading EEGBCI data\n"
          ]
        },
        {
          "output_type": "stream",
          "name": "stderr",
          "text": [
            "Downloading file 'S043/S043R04.edf' from 'https://physionet.org/files/eegmmidb/1.0.0/S043/S043R04.edf' to '/root/mne_data/MNE-eegbci-data/files/eegmmidb/1.0.0'.\n",
            "Downloading file 'S043/S043R08.edf' from 'https://physionet.org/files/eegmmidb/1.0.0/S043/S043R08.edf' to '/root/mne_data/MNE-eegbci-data/files/eegmmidb/1.0.0'.\n",
            "Downloading file 'S043/S043R12.edf' from 'https://physionet.org/files/eegmmidb/1.0.0/S043/S043R12.edf' to '/root/mne_data/MNE-eegbci-data/files/eegmmidb/1.0.0'.\n"
          ]
        },
        {
          "output_type": "stream",
          "name": "stdout",
          "text": [
            "Download complete in 23s (7.3 MB)\n",
            "Downloading EEGBCI data\n"
          ]
        },
        {
          "output_type": "stream",
          "name": "stderr",
          "text": [
            "Downloading file 'S044/S044R04.edf' from 'https://physionet.org/files/eegmmidb/1.0.0/S044/S044R04.edf' to '/root/mne_data/MNE-eegbci-data/files/eegmmidb/1.0.0'.\n",
            "Downloading file 'S044/S044R08.edf' from 'https://physionet.org/files/eegmmidb/1.0.0/S044/S044R08.edf' to '/root/mne_data/MNE-eegbci-data/files/eegmmidb/1.0.0'.\n",
            "Downloading file 'S044/S044R12.edf' from 'https://physionet.org/files/eegmmidb/1.0.0/S044/S044R12.edf' to '/root/mne_data/MNE-eegbci-data/files/eegmmidb/1.0.0'.\n"
          ]
        },
        {
          "output_type": "stream",
          "name": "stdout",
          "text": [
            "Download complete in 21s (7.3 MB)\n",
            "Downloading EEGBCI data\n"
          ]
        },
        {
          "output_type": "stream",
          "name": "stderr",
          "text": [
            "Downloading file 'S045/S045R04.edf' from 'https://physionet.org/files/eegmmidb/1.0.0/S045/S045R04.edf' to '/root/mne_data/MNE-eegbci-data/files/eegmmidb/1.0.0'.\n",
            "Downloading file 'S045/S045R08.edf' from 'https://physionet.org/files/eegmmidb/1.0.0/S045/S045R08.edf' to '/root/mne_data/MNE-eegbci-data/files/eegmmidb/1.0.0'.\n",
            "Downloading file 'S045/S045R12.edf' from 'https://physionet.org/files/eegmmidb/1.0.0/S045/S045R12.edf' to '/root/mne_data/MNE-eegbci-data/files/eegmmidb/1.0.0'.\n"
          ]
        },
        {
          "output_type": "stream",
          "name": "stdout",
          "text": [
            "Download complete in 20s (7.3 MB)\n",
            "Downloading EEGBCI data\n"
          ]
        },
        {
          "output_type": "stream",
          "name": "stderr",
          "text": [
            "Downloading file 'S046/S046R04.edf' from 'https://physionet.org/files/eegmmidb/1.0.0/S046/S046R04.edf' to '/root/mne_data/MNE-eegbci-data/files/eegmmidb/1.0.0'.\n",
            "Downloading file 'S046/S046R08.edf' from 'https://physionet.org/files/eegmmidb/1.0.0/S046/S046R08.edf' to '/root/mne_data/MNE-eegbci-data/files/eegmmidb/1.0.0'.\n",
            "Downloading file 'S046/S046R12.edf' from 'https://physionet.org/files/eegmmidb/1.0.0/S046/S046R12.edf' to '/root/mne_data/MNE-eegbci-data/files/eegmmidb/1.0.0'.\n"
          ]
        },
        {
          "output_type": "stream",
          "name": "stdout",
          "text": [
            "Download complete in 20s (7.4 MB)\n",
            "Downloading EEGBCI data\n"
          ]
        },
        {
          "output_type": "stream",
          "name": "stderr",
          "text": [
            "Downloading file 'S047/S047R04.edf' from 'https://physionet.org/files/eegmmidb/1.0.0/S047/S047R04.edf' to '/root/mne_data/MNE-eegbci-data/files/eegmmidb/1.0.0'.\n",
            "Downloading file 'S047/S047R08.edf' from 'https://physionet.org/files/eegmmidb/1.0.0/S047/S047R08.edf' to '/root/mne_data/MNE-eegbci-data/files/eegmmidb/1.0.0'.\n",
            "Downloading file 'S047/S047R12.edf' from 'https://physionet.org/files/eegmmidb/1.0.0/S047/S047R12.edf' to '/root/mne_data/MNE-eegbci-data/files/eegmmidb/1.0.0'.\n"
          ]
        },
        {
          "output_type": "stream",
          "name": "stdout",
          "text": [
            "Download complete in 18s (7.3 MB)\n",
            "Downloading EEGBCI data\n"
          ]
        },
        {
          "output_type": "stream",
          "name": "stderr",
          "text": [
            "Downloading file 'S048/S048R04.edf' from 'https://physionet.org/files/eegmmidb/1.0.0/S048/S048R04.edf' to '/root/mne_data/MNE-eegbci-data/files/eegmmidb/1.0.0'.\n",
            "Downloading file 'S048/S048R08.edf' from 'https://physionet.org/files/eegmmidb/1.0.0/S048/S048R08.edf' to '/root/mne_data/MNE-eegbci-data/files/eegmmidb/1.0.0'.\n",
            "Downloading file 'S048/S048R12.edf' from 'https://physionet.org/files/eegmmidb/1.0.0/S048/S048R12.edf' to '/root/mne_data/MNE-eegbci-data/files/eegmmidb/1.0.0'.\n"
          ]
        },
        {
          "output_type": "stream",
          "name": "stdout",
          "text": [
            "Download complete in 19s (7.3 MB)\n",
            "Downloading EEGBCI data\n"
          ]
        },
        {
          "output_type": "stream",
          "name": "stderr",
          "text": [
            "Downloading file 'S049/S049R04.edf' from 'https://physionet.org/files/eegmmidb/1.0.0/S049/S049R04.edf' to '/root/mne_data/MNE-eegbci-data/files/eegmmidb/1.0.0'.\n",
            "Downloading file 'S049/S049R08.edf' from 'https://physionet.org/files/eegmmidb/1.0.0/S049/S049R08.edf' to '/root/mne_data/MNE-eegbci-data/files/eegmmidb/1.0.0'.\n",
            "Downloading file 'S049/S049R12.edf' from 'https://physionet.org/files/eegmmidb/1.0.0/S049/S049R12.edf' to '/root/mne_data/MNE-eegbci-data/files/eegmmidb/1.0.0'.\n"
          ]
        },
        {
          "output_type": "stream",
          "name": "stdout",
          "text": [
            "Download complete in 18s (7.3 MB)\n",
            "Downloading EEGBCI data\n"
          ]
        },
        {
          "output_type": "stream",
          "name": "stderr",
          "text": [
            "Downloading file 'S050/S050R04.edf' from 'https://physionet.org/files/eegmmidb/1.0.0/S050/S050R04.edf' to '/root/mne_data/MNE-eegbci-data/files/eegmmidb/1.0.0'.\n",
            "Downloading file 'S050/S050R08.edf' from 'https://physionet.org/files/eegmmidb/1.0.0/S050/S050R08.edf' to '/root/mne_data/MNE-eegbci-data/files/eegmmidb/1.0.0'.\n",
            "Downloading file 'S050/S050R12.edf' from 'https://physionet.org/files/eegmmidb/1.0.0/S050/S050R12.edf' to '/root/mne_data/MNE-eegbci-data/files/eegmmidb/1.0.0'.\n"
          ]
        },
        {
          "output_type": "stream",
          "name": "stdout",
          "text": [
            "Download complete in 19s (7.3 MB)\n",
            "Downloading EEGBCI data\n"
          ]
        },
        {
          "output_type": "stream",
          "name": "stderr",
          "text": [
            "Downloading file 'S051/S051R04.edf' from 'https://physionet.org/files/eegmmidb/1.0.0/S051/S051R04.edf' to '/root/mne_data/MNE-eegbci-data/files/eegmmidb/1.0.0'.\n",
            "Downloading file 'S051/S051R08.edf' from 'https://physionet.org/files/eegmmidb/1.0.0/S051/S051R08.edf' to '/root/mne_data/MNE-eegbci-data/files/eegmmidb/1.0.0'.\n",
            "Downloading file 'S051/S051R12.edf' from 'https://physionet.org/files/eegmmidb/1.0.0/S051/S051R12.edf' to '/root/mne_data/MNE-eegbci-data/files/eegmmidb/1.0.0'.\n"
          ]
        },
        {
          "output_type": "stream",
          "name": "stdout",
          "text": [
            "Download complete in 20s (7.4 MB)\n",
            "Downloading EEGBCI data\n"
          ]
        },
        {
          "output_type": "stream",
          "name": "stderr",
          "text": [
            "Downloading file 'S052/S052R04.edf' from 'https://physionet.org/files/eegmmidb/1.0.0/S052/S052R04.edf' to '/root/mne_data/MNE-eegbci-data/files/eegmmidb/1.0.0'.\n",
            "Downloading file 'S052/S052R08.edf' from 'https://physionet.org/files/eegmmidb/1.0.0/S052/S052R08.edf' to '/root/mne_data/MNE-eegbci-data/files/eegmmidb/1.0.0'.\n",
            "Downloading file 'S052/S052R12.edf' from 'https://physionet.org/files/eegmmidb/1.0.0/S052/S052R12.edf' to '/root/mne_data/MNE-eegbci-data/files/eegmmidb/1.0.0'.\n"
          ]
        },
        {
          "output_type": "stream",
          "name": "stdout",
          "text": [
            "Download complete in 22s (7.3 MB)\n",
            "Downloading EEGBCI data\n"
          ]
        },
        {
          "output_type": "stream",
          "name": "stderr",
          "text": [
            "Downloading file 'S053/S053R04.edf' from 'https://physionet.org/files/eegmmidb/1.0.0/S053/S053R04.edf' to '/root/mne_data/MNE-eegbci-data/files/eegmmidb/1.0.0'.\n",
            "Downloading file 'S053/S053R08.edf' from 'https://physionet.org/files/eegmmidb/1.0.0/S053/S053R08.edf' to '/root/mne_data/MNE-eegbci-data/files/eegmmidb/1.0.0'.\n",
            "Downloading file 'S053/S053R12.edf' from 'https://physionet.org/files/eegmmidb/1.0.0/S053/S053R12.edf' to '/root/mne_data/MNE-eegbci-data/files/eegmmidb/1.0.0'.\n"
          ]
        },
        {
          "output_type": "stream",
          "name": "stdout",
          "text": [
            "Download complete in 20s (7.3 MB)\n",
            "Downloading EEGBCI data\n"
          ]
        },
        {
          "output_type": "stream",
          "name": "stderr",
          "text": [
            "Downloading file 'S054/S054R04.edf' from 'https://physionet.org/files/eegmmidb/1.0.0/S054/S054R04.edf' to '/root/mne_data/MNE-eegbci-data/files/eegmmidb/1.0.0'.\n",
            "Downloading file 'S054/S054R08.edf' from 'https://physionet.org/files/eegmmidb/1.0.0/S054/S054R08.edf' to '/root/mne_data/MNE-eegbci-data/files/eegmmidb/1.0.0'.\n",
            "Downloading file 'S054/S054R12.edf' from 'https://physionet.org/files/eegmmidb/1.0.0/S054/S054R12.edf' to '/root/mne_data/MNE-eegbci-data/files/eegmmidb/1.0.0'.\n"
          ]
        },
        {
          "output_type": "stream",
          "name": "stdout",
          "text": [
            "Download complete in 19s (7.3 MB)\n",
            "Downloading EEGBCI data\n"
          ]
        },
        {
          "output_type": "stream",
          "name": "stderr",
          "text": [
            "Downloading file 'S055/S055R04.edf' from 'https://physionet.org/files/eegmmidb/1.0.0/S055/S055R04.edf' to '/root/mne_data/MNE-eegbci-data/files/eegmmidb/1.0.0'.\n",
            "Downloading file 'S055/S055R08.edf' from 'https://physionet.org/files/eegmmidb/1.0.0/S055/S055R08.edf' to '/root/mne_data/MNE-eegbci-data/files/eegmmidb/1.0.0'.\n",
            "Downloading file 'S055/S055R12.edf' from 'https://physionet.org/files/eegmmidb/1.0.0/S055/S055R12.edf' to '/root/mne_data/MNE-eegbci-data/files/eegmmidb/1.0.0'.\n"
          ]
        },
        {
          "output_type": "stream",
          "name": "stdout",
          "text": [
            "Download complete in 18s (7.3 MB)\n",
            "Downloading EEGBCI data\n"
          ]
        },
        {
          "output_type": "stream",
          "name": "stderr",
          "text": [
            "Downloading file 'S056/S056R04.edf' from 'https://physionet.org/files/eegmmidb/1.0.0/S056/S056R04.edf' to '/root/mne_data/MNE-eegbci-data/files/eegmmidb/1.0.0'.\n",
            "Downloading file 'S056/S056R08.edf' from 'https://physionet.org/files/eegmmidb/1.0.0/S056/S056R08.edf' to '/root/mne_data/MNE-eegbci-data/files/eegmmidb/1.0.0'.\n",
            "Downloading file 'S056/S056R12.edf' from 'https://physionet.org/files/eegmmidb/1.0.0/S056/S056R12.edf' to '/root/mne_data/MNE-eegbci-data/files/eegmmidb/1.0.0'.\n"
          ]
        },
        {
          "output_type": "stream",
          "name": "stdout",
          "text": [
            "Download complete in 19s (7.3 MB)\n",
            "Downloading EEGBCI data\n"
          ]
        },
        {
          "output_type": "stream",
          "name": "stderr",
          "text": [
            "Downloading file 'S057/S057R04.edf' from 'https://physionet.org/files/eegmmidb/1.0.0/S057/S057R04.edf' to '/root/mne_data/MNE-eegbci-data/files/eegmmidb/1.0.0'.\n",
            "Downloading file 'S057/S057R08.edf' from 'https://physionet.org/files/eegmmidb/1.0.0/S057/S057R08.edf' to '/root/mne_data/MNE-eegbci-data/files/eegmmidb/1.0.0'.\n",
            "Downloading file 'S057/S057R12.edf' from 'https://physionet.org/files/eegmmidb/1.0.0/S057/S057R12.edf' to '/root/mne_data/MNE-eegbci-data/files/eegmmidb/1.0.0'.\n"
          ]
        },
        {
          "output_type": "stream",
          "name": "stdout",
          "text": [
            "Download complete in 17s (7.4 MB)\n",
            "Downloading EEGBCI data\n"
          ]
        },
        {
          "output_type": "stream",
          "name": "stderr",
          "text": [
            "Downloading file 'S058/S058R04.edf' from 'https://physionet.org/files/eegmmidb/1.0.0/S058/S058R04.edf' to '/root/mne_data/MNE-eegbci-data/files/eegmmidb/1.0.0'.\n",
            "Downloading file 'S058/S058R08.edf' from 'https://physionet.org/files/eegmmidb/1.0.0/S058/S058R08.edf' to '/root/mne_data/MNE-eegbci-data/files/eegmmidb/1.0.0'.\n",
            "Downloading file 'S058/S058R12.edf' from 'https://physionet.org/files/eegmmidb/1.0.0/S058/S058R12.edf' to '/root/mne_data/MNE-eegbci-data/files/eegmmidb/1.0.0'.\n"
          ]
        },
        {
          "output_type": "stream",
          "name": "stdout",
          "text": [
            "Download complete in 18s (7.3 MB)\n",
            "Downloading EEGBCI data\n"
          ]
        },
        {
          "output_type": "stream",
          "name": "stderr",
          "text": [
            "Downloading file 'S059/S059R04.edf' from 'https://physionet.org/files/eegmmidb/1.0.0/S059/S059R04.edf' to '/root/mne_data/MNE-eegbci-data/files/eegmmidb/1.0.0'.\n",
            "Downloading file 'S059/S059R08.edf' from 'https://physionet.org/files/eegmmidb/1.0.0/S059/S059R08.edf' to '/root/mne_data/MNE-eegbci-data/files/eegmmidb/1.0.0'.\n",
            "Downloading file 'S059/S059R12.edf' from 'https://physionet.org/files/eegmmidb/1.0.0/S059/S059R12.edf' to '/root/mne_data/MNE-eegbci-data/files/eegmmidb/1.0.0'.\n"
          ]
        },
        {
          "output_type": "stream",
          "name": "stdout",
          "text": [
            "Download complete in 19s (7.3 MB)\n",
            "Downloading EEGBCI data\n"
          ]
        },
        {
          "output_type": "stream",
          "name": "stderr",
          "text": [
            "Downloading file 'S060/S060R04.edf' from 'https://physionet.org/files/eegmmidb/1.0.0/S060/S060R04.edf' to '/root/mne_data/MNE-eegbci-data/files/eegmmidb/1.0.0'.\n",
            "Downloading file 'S060/S060R08.edf' from 'https://physionet.org/files/eegmmidb/1.0.0/S060/S060R08.edf' to '/root/mne_data/MNE-eegbci-data/files/eegmmidb/1.0.0'.\n",
            "Downloading file 'S060/S060R12.edf' from 'https://physionet.org/files/eegmmidb/1.0.0/S060/S060R12.edf' to '/root/mne_data/MNE-eegbci-data/files/eegmmidb/1.0.0'.\n"
          ]
        },
        {
          "output_type": "stream",
          "name": "stdout",
          "text": [
            "Download complete in 17s (7.3 MB)\n",
            "Downloading EEGBCI data\n"
          ]
        },
        {
          "output_type": "stream",
          "name": "stderr",
          "text": [
            "Downloading file 'S061/S061R04.edf' from 'https://physionet.org/files/eegmmidb/1.0.0/S061/S061R04.edf' to '/root/mne_data/MNE-eegbci-data/files/eegmmidb/1.0.0'.\n",
            "Downloading file 'S061/S061R08.edf' from 'https://physionet.org/files/eegmmidb/1.0.0/S061/S061R08.edf' to '/root/mne_data/MNE-eegbci-data/files/eegmmidb/1.0.0'.\n",
            "Downloading file 'S061/S061R12.edf' from 'https://physionet.org/files/eegmmidb/1.0.0/S061/S061R12.edf' to '/root/mne_data/MNE-eegbci-data/files/eegmmidb/1.0.0'.\n"
          ]
        },
        {
          "output_type": "stream",
          "name": "stdout",
          "text": [
            "Download complete in 17s (7.4 MB)\n",
            "Downloading EEGBCI data\n"
          ]
        },
        {
          "output_type": "stream",
          "name": "stderr",
          "text": [
            "Downloading file 'S062/S062R04.edf' from 'https://physionet.org/files/eegmmidb/1.0.0/S062/S062R04.edf' to '/root/mne_data/MNE-eegbci-data/files/eegmmidb/1.0.0'.\n",
            "Downloading file 'S062/S062R08.edf' from 'https://physionet.org/files/eegmmidb/1.0.0/S062/S062R08.edf' to '/root/mne_data/MNE-eegbci-data/files/eegmmidb/1.0.0'.\n",
            "Downloading file 'S062/S062R12.edf' from 'https://physionet.org/files/eegmmidb/1.0.0/S062/S062R12.edf' to '/root/mne_data/MNE-eegbci-data/files/eegmmidb/1.0.0'.\n"
          ]
        },
        {
          "output_type": "stream",
          "name": "stdout",
          "text": [
            "Download complete in 17s (7.3 MB)\n",
            "Downloading EEGBCI data\n"
          ]
        },
        {
          "output_type": "stream",
          "name": "stderr",
          "text": [
            "Downloading file 'S063/S063R04.edf' from 'https://physionet.org/files/eegmmidb/1.0.0/S063/S063R04.edf' to '/root/mne_data/MNE-eegbci-data/files/eegmmidb/1.0.0'.\n",
            "Downloading file 'S063/S063R08.edf' from 'https://physionet.org/files/eegmmidb/1.0.0/S063/S063R08.edf' to '/root/mne_data/MNE-eegbci-data/files/eegmmidb/1.0.0'.\n",
            "Downloading file 'S063/S063R12.edf' from 'https://physionet.org/files/eegmmidb/1.0.0/S063/S063R12.edf' to '/root/mne_data/MNE-eegbci-data/files/eegmmidb/1.0.0'.\n"
          ]
        },
        {
          "output_type": "stream",
          "name": "stdout",
          "text": [
            "Download complete in 16s (7.3 MB)\n",
            "Downloading EEGBCI data\n"
          ]
        },
        {
          "output_type": "stream",
          "name": "stderr",
          "text": [
            "Downloading file 'S064/S064R04.edf' from 'https://physionet.org/files/eegmmidb/1.0.0/S064/S064R04.edf' to '/root/mne_data/MNE-eegbci-data/files/eegmmidb/1.0.0'.\n"
          ]
        }
      ]
    },
    {
      "cell_type": "code",
      "source": [
        "import os\n",
        "import numpy as np\n",
        "import mne\n",
        "from mne import concatenate_raws\n",
        "from mne.datasets import eegbci\n",
        "from scipy.signal import stft\n",
        "from sklearn.model_selection import train_test_split\n",
        "from sklearn.metrics import accuracy_score, f1_score\n",
        "import tensorflow as tf\n",
        "from tensorflow.keras.layers import Input, Conv2D, MaxPooling2D, Dropout, Flatten, Dense, Concatenate\n",
        "from tensorflow.keras.models import Model\n",
        "import matplotlib.pyplot as plt\n",
        "\n",
        "# Diretório de espectrogramas (sem logging)\n",
        "spectrogram_dir = r\"C:\\Users\\Chari\\OneDrive\\Documentos\\GitHub\\teste01\\spectrograms\"\n",
        "os.makedirs(spectrogram_dir, exist_ok=True)\n",
        "\n",
        "# Parâmetros gerais\n",
        "IMAGINE_LEFT_RIGHT = [4, 8, 12]\n",
        "subjects = range(1, 21)\n",
        "selected_channels = ['C3..', 'C4..', 'Fp1.', 'Fp2.', 'F7..', 'F3..', 'F4..', 'F8..',\n",
        "                     'T7..', 'T8..', 'P7..', 'P3..', 'P4..', 'P8..', 'O1..', 'O2..']\n",
        "\n",
        "# Carregamento dos dados\n",
        "physionet_paths = np.concatenate([\n",
        "    eegbci.load_data(subj, IMAGINE_LEFT_RIGHT, path=r\"C:\\Users\\Chari\\OneDrive\\Documentos\\GitHub\\teste01\\mne_data\") for subj in subjects\n",
        "])\n",
        "raws = [mne.io.read_raw_edf(p, preload=True, stim_channel='auto', verbose='WARNING') for p in physionet_paths]\n",
        "raw = concatenate_raws(raws)\n",
        "raw.filter(8., 30., fir_design='firwin', verbose=False)\n",
        "raw.pick_channels(selected_channels)\n",
        "\n",
        "# Eventos e epochs\n",
        "events, _ = mne.events_from_annotations(raw)\n",
        "event_id = dict(T1=1, T2=2)\n",
        "epochs = mne.Epochs(raw, events, event_id=event_id, tmin=1, tmax=4.1, baseline=None, preload=True, verbose=False)\n",
        "\n",
        "# Função de geração de espectrograma\n",
        "def generate_spectrogram(trial, fs=250, window='hann', nperseg=64, noverlap=50):\n",
        "    f, t, Zxx = stft(trial, fs=fs, window=window, nperseg=nperseg, noverlap=noverlap)\n",
        "    mu_band = (f >= 8) & (f <= 14)\n",
        "    beta_band = (f >= 16) & (f <= 30)\n",
        "    spec_mu = np.abs(Zxx[mu_band, :])\n",
        "    spec_beta = np.abs(Zxx[beta_band, :])\n",
        "    spec_mu = np.resize(spec_mu, (20, 32))\n",
        "    spec_beta = np.resize(spec_beta, (20, 32))\n",
        "    return np.concatenate((spec_mu, spec_beta), axis=0)\n",
        "\n",
        "# Geração de espectrogramas e labels\n",
        "X, y = [], []\n",
        "for i, (epoch, label) in enumerate(zip(epochs.get_data(), epochs.events[:, -1] - 1)):\n",
        "    combined_spec = []\n",
        "    for ch_idx, ch_data in enumerate(epoch):\n",
        "        spec = generate_spectrogram(ch_data)\n",
        "        combined_spec.append(spec)\n",
        "    full_image = np.stack(combined_spec, axis=-1)  # shape (40, 32, 16)\n",
        "    X.append(full_image)\n",
        "    y.append(label)\n",
        "\n",
        "X = np.array(X, dtype=np.float32)\n",
        "y = np.array(y)\n",
        "\n",
        "# Train/test split\n",
        "X_train, X_test, y_train, y_test = train_test_split(X, y, test_size=0.2, stratify=y, random_state=42)\n",
        "\n",
        "# CNN ajustada para 16 canais\n",
        "\n",
        "def build_model(input_shape=(40, 32, 16), num_classes=2):\n",
        "    inp = Input(shape=input_shape)\n",
        "    x1 = Conv2D(32, (3, 3), activation='relu', padding='same')(inp)\n",
        "    x2 = Conv2D(32, (3, 3), activation='relu', padding='same')(x1)\n",
        "    x3 = Concatenate()([x1, x2])\n",
        "    x4 = MaxPooling2D((2, 2))(x3)\n",
        "    x5 = Conv2D(64, (3, 3), activation='relu', padding='same')(x4)\n",
        "    x6 = Flatten()(x5)\n",
        "    x6 = Dropout(0.5)(x6)\n",
        "    out = Dense(num_classes, activation='softmax')(x6)\n",
        "    return Model(inputs=inp, outputs=out)\n",
        "\n",
        "# Treinamento do modelo\n",
        "model = build_model()\n",
        "model.compile(optimizer='adam', loss='sparse_categorical_crossentropy', metrics=['accuracy'])\n",
        "model.summary()\n",
        "model.fit(X_train, y_train, epochs=100, batch_size=32, validation_split=0.2)\n",
        "\n",
        "# Avaliação\n",
        "y_pred = model.predict(X_test).argmax(axis=-1)\n",
        "print(f\"Accuracy: {accuracy_score(y_test, y_pred):.4f}, F1 Score: {f1_score(y_test, y_pred):.4f}\")"
      ],
      "metadata": {
        "id": "rxT1RIBAF1oE"
      },
      "execution_count": null,
      "outputs": []
    },
    {
      "cell_type": "code",
      "source": [
        "import os\n",
        "import numpy as np\n",
        "import mne\n",
        "from scipy.signal import stft\n",
        "from sklearn.model_selection import train_test_split\n",
        "from sklearn.metrics import accuracy_score, f1_score\n",
        "import tensorflow as tf\n",
        "from tensorflow.keras.layers import Input, Conv2D, MaxPooling2D, Dropout, Flatten, Dense, Concatenate\n",
        "from tensorflow.keras.models import Model\n",
        "import matplotlib.pyplot as plt\n",
        "\n",
        "# Diretório dos arquivos GDF do BCI IV 2b\n",
        "data_path = 'BCICIV_2b_gdf'\n",
        "subjects = ['B01', 'B02', 'B03', 'B04', 'B05', 'B06', 'B07', 'B08', 'B09']\n",
        "sessions = ['01T']  # Apenas sessões de treino\n",
        "\n",
        "raw_list = []\n",
        "for subj in subjects:\n",
        "    for sess in sessions:\n",
        "        file_path = os.path.join(data_path, f'{subj}{sess}.gdf')\n",
        "        print(f\"Verificando: {file_path}\")\n",
        "        if os.path.exists(file_path):\n",
        "            try:\n",
        "                raw = mne.io.read_raw_gdf(file_path, preload=True, stim_channel=None, verbose='ERROR')\n",
        "                raw.pick_channels(['C3', 'Cz', 'C4'])\n",
        "                raw.filter(8., 30., fir_design='firwin', verbose=False)\n",
        "                raw_list.append(raw)\n",
        "            except Exception as e:\n",
        "                print(f\"Erro ao ler {file_path} com MNE: {e}\")\n",
        "        else:\n",
        "            print(f\"Arquivo não encontrado: {file_path}\")\n",
        "\n",
        "if not raw_list:\n",
        "    raise RuntimeError(\"Nenhum arquivo GDF foi carregado com MNE. Verifique os dados.\")\n",
        "\n",
        "raw = mne.concatenate_raws(raw_list)\n",
        "events, _ = mne.events_from_annotations(raw)\n",
        "event_id = {'Left Hand': 1, 'Right Hand': 2}\n",
        "epochs = mne.Epochs(raw, events, event_id=event_id, tmin=3.0, tmax=7.0,\n",
        "                    baseline=None, preload=True, verbose=False)\n",
        "\n",
        "fs = int(raw.info['sfreq'])\n",
        "X, y = [], []\n",
        "for epoch, label in zip(epochs.get_data(), epochs.events[:, -1]):\n",
        "    spec = []\n",
        "    for ch_data in epoch:\n",
        "        f, t, Zxx = stft(ch_data, fs=fs, nperseg=64, noverlap=32)\n",
        "        mu_band = (f >= 8) & (f <= 14)\n",
        "        beta_band = (f >= 16) & (f <= 30)\n",
        "        spec_mu = np.abs(Zxx[mu_band, :])\n",
        "        spec_beta = np.abs(Zxx[beta_band, :])\n",
        "        spec_mu = np.resize(spec_mu, (20, 32))\n",
        "        spec_beta = np.resize(spec_beta, (20, 32))\n",
        "        spec_combined = np.concatenate((spec_mu, spec_beta), axis=0)\n",
        "        spec.append(spec_combined)\n",
        "    X.append(np.stack(spec, axis=-1))\n",
        "    y.append(label - 1)\n",
        "\n",
        "X = np.array(X, dtype=np.float32)\n",
        "y = np.array(y)\n",
        "\n",
        "X_train, X_test, y_train, y_test = train_test_split(X, y, test_size=0.2, random_state=42)\n",
        "\n",
        "def build_model(input_shape=(40, 32, 3), num_classes=2):\n",
        "    inp = Input(shape=input_shape)\n",
        "    x1 = Conv2D(32, (3, 3), activation='relu', padding='same')(inp)\n",
        "    x2 = Conv2D(32, (3, 3), activation='relu', padding='same')(x1)\n",
        "    x3 = Concatenate()([x1, x2])\n",
        "    x4 = MaxPooling2D((2, 2))(x3)\n",
        "    x5 = Conv2D(64, (3, 3), activation='relu', padding='same')(x4)\n",
        "    x6 = Flatten()(x5)\n",
        "    x6 = Dropout(0.5)(x6)\n",
        "    out = Dense(num_classes, activation='softmax')(x6)\n",
        "    return Model(inputs=inp, outputs=out)\n",
        "\n",
        "model = build_model(input_shape=X_train.shape[1:], num_classes=2)\n",
        "model.compile(optimizer='adam', loss='sparse_categorical_crossentropy', metrics=['accuracy'])\n",
        "model.summary()\n",
        "\n",
        "model.fit(X_train, y_train, epochs=5, batch_size=16, validation_split=0.2)\n",
        "y_pred = model.predict(X_test).argmax(axis=-1)\n",
        "print(f\"Accuracy: {accuracy_score(y_test, y_pred):.4f}, F1 Score: {f1_score(y_test, y_pred):.4f}\")"
      ],
      "metadata": {
        "id": "nP2iCWtOFfaa"
      },
      "execution_count": null,
      "outputs": []
    }
  ]
}